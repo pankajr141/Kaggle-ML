{
 "cells": [
  {
   "cell_type": "code",
   "execution_count": 1,
   "metadata": {
    "_cell_guid": "b1076dfc-b9ad-4769-8c92-a6c4dae69d19",
    "_uuid": "8f2839f25d086af736a60e9eeb907d3b93b6e0e5"
   },
   "outputs": [
    {
     "name": "stderr",
     "output_type": "stream",
     "text": [
      "Using TensorFlow backend.\n"
     ]
    }
   ],
   "source": [
    "# This Python 3 environment comes with many helpful analytics libraries installed\n",
    "# It is defined by the kaggle/python docker image: https://github.com/kaggle/docker-python\n",
    "# For example, here's several helpful packages to load in \n",
    "\n",
    "import numpy as np # linear algebra\n",
    "import pandas as pd # data processing, CSV file I/O (e.g. pd.read_csv)\n",
    "\n",
    "# Input data files are available in the \"../input/\" directory.\n",
    "# For example, running this (by clicking run or pressing Shift+Enter) will list the files in the input directory\n",
    "import os\n",
    "import tensorflow as tf\n",
    "from sklearn import metrics\n",
    "from sklearn.utils import shuffle\n",
    "from keras.preprocessing import text \n",
    "from collections import OrderedDict\n",
    "import re\n",
    "import math\n",
    "import pickle\n",
    "import time\n",
    "import sys\n",
    "import gc\n",
    "# Any results you write to the current directory are saved as output."
   ]
  },
  {
   "cell_type": "markdown",
   "metadata": {},
   "source": [
    "## Loaded dataset"
   ]
  },
  {
   "cell_type": "code",
   "execution_count": 2,
   "metadata": {
    "_cell_guid": "79c7e3d0-c299-4dcb-8224-4455121ee9b0",
    "_uuid": "d629ff2d2480ee46fbb7e2d37f6b5fab8052498a"
   },
   "outputs": [],
   "source": [
    "def getTrainHoldoutSplit(df, dfLabel, holdoutSize=0.20):\n",
    "    from sklearn import model_selection \n",
    "    dfHoldOut = None\n",
    "    dfHoldOutLabel = None\n",
    "\n",
    "    cv_pre = model_selection.StratifiedShuffleSplit(n_splits=1, test_size=holdoutSize, random_state=1)\n",
    "    for train_index, test_index in cv_pre.split(df, dfLabel):\n",
    "        y_train, y_test = dfLabel[train_index], dfLabel[test_index]\n",
    "        x_train, x_test = df.iloc[train_index], df.iloc[test_index]\n",
    "        df, dfLabel = x_train, y_train\n",
    "        dfHoldOut, dfHoldOutLabel = x_test, y_test\n",
    "\n",
    "    print(\"==================== Data Set ==================================\")\n",
    "    print(\"Holdout Set => \", dfHoldOut.shape)\n",
    "    print(\"Train Set => \", df.shape)\n",
    "    print(\"==================== Data Set ==================================\")\n",
    "    return df, dfLabel, dfHoldOut, dfHoldOutLabel"
   ]
  },
  {
   "cell_type": "code",
   "execution_count": 3,
   "metadata": {},
   "outputs": [
    {
     "name": "stdout",
     "output_type": "stream",
     "text": [
      "==================== Data Set ==================================\n",
      "Holdout Set =>  (270732, 46)\n",
      "Train Set =>  (1534142, 46)\n",
      "==================== Data Set ==================================\n"
     ]
    },
    {
     "name": "stderr",
     "output_type": "stream",
     "text": [
      "/opt/conda/lib/python3.6/site-packages/pandas/core/series.py:842: FutureWarning: \n",
      "Passing list-likes to .loc or [] with any missing label will raise\n",
      "KeyError in the future, you can use .reindex() as an alternative.\n",
      "\n",
      "See the documentation here:\n",
      "https://pandas.pydata.org/pandas-docs/stable/indexing.html#deprecate-loc-reindex-listlike\n",
      "  return self.loc[key]\n"
     ]
    },
    {
     "name": "stdout",
     "output_type": "stream",
     "text": [
      "==================== Data Set ==================================\n",
      "Holdout Set =>  (276146, 46)\n",
      "Train Set =>  (1257996, 46)\n",
      "==================== Data Set ==================================\n",
      "==========Train Sample Distribution =============\n",
      "0.0    985215\n",
      "1.0     84356\n",
      "Name: pred, dtype: int64\n",
      "==========Validation Sample Distribution ===========\n",
      "0.0    216204\n",
      "1.0     18296\n",
      "Name: pred, dtype: int64\n",
      "==========Holdout Sample Distribution ===========\n",
      "0    249082\n",
      "1     21650\n",
      "Name: pred, dtype: int64\n",
      "=================================================\n"
     ]
    }
   ],
   "source": [
    "# df = pd.read_csv('../input/jigsaw-unintended-bias-in-toxicity-classification/train.csv', nrows=10000)\n",
    "# dfTest = pd.read_csv('../input/jigsaw-unintended-bias-in-toxicity-classification/test.csv', nrows=1000)\n",
    "df = pd.read_csv('../input/jigsaw-unintended-bias-in-toxicity-classification/train.csv')\n",
    "dfTest = pd.read_csv('../input/jigsaw-unintended-bias-in-toxicity-classification/test.csv')\n",
    "\n",
    "df['pred'] = df['target'].apply(lambda x: 1 if x >= 0.5 else 0)\n",
    "\n",
    "# df = pd.read_csv(\"../input/fake-news-detection/data.csv\")\n",
    "# df = df.fillna('')\n",
    "# df['comment_text'] = df['Headline']\n",
    "# df['pred'] = df['Label']\n",
    "# df['id'] = df.index\n",
    "# dfTest = df\n",
    "\n",
    "def filter_initial_sentence(x):\n",
    "    return \" \".join([re.sub('[^a-z0-9 ]+', '', x) if re.sub('[^a-z0-9 ]+', '', x) else x for x in x.lower().split()])\n",
    "\n",
    "def tokenize_initial_sentence(x):\n",
    "    x = re.sub(\"[’‘'“\\\"”.\\n\\t\\r]+\", '', x.lower())\n",
    "    pat = re.compile(r\"([—!#$%&()*+,-./:;<=>?@\\[\\\\\\]^_`{|}~\\t\\n…])\")\n",
    "    x = re.sub(\"[0-9]+\", '', x.lower())\n",
    "    return pat.sub(\" \\\\1 \", x)\n",
    "\n",
    "df['comment_text'] = df['comment_text'].apply(tokenize_initial_sentence)\n",
    "dfTest['comment_text'] = dfTest['comment_text'].apply(tokenize_initial_sentence)\n",
    "\n",
    "df, dfLabel, dfHoldOut, dfHoldOutLabel = getTrainHoldoutSplit(df, df['pred'], holdoutSize=0.15)\n",
    "df, dfLabel, dfVal, dfValLabel = getTrainHoldoutSplit(df, df['pred'], holdoutSize=0.18)\n",
    "\n",
    "# Check Positive vs Negative samples\n",
    "print(\"==========Train Sample Distribution =============\")\n",
    "print(dfLabel.value_counts())\n",
    "print(\"==========Validation Sample Distribution ===========\")\n",
    "print(dfValLabel.value_counts())\n",
    "print(\"==========Holdout Sample Distribution ===========\")\n",
    "print(dfHoldOutLabel.value_counts())\n",
    "print(\"=================================================\")"
   ]
  },
  {
   "cell_type": "markdown",
   "metadata": {},
   "source": [
    "### Tokenizer Keras used for tokenization and unique  word count"
   ]
  },
  {
   "cell_type": "code",
   "execution_count": 4,
   "metadata": {},
   "outputs": [
    {
     "name": "stdout",
     "output_type": "stream",
     "text": [
      "713144\n"
     ]
    }
   ],
   "source": [
    "from nltk.tokenize.treebank import TreebankWordTokenizer\n",
    "tokenizer = TreebankWordTokenizer()\n",
    "max_features = 2000000\n",
    "# tokenizer.fit_on_texts(df['comment_text'].tolist())\n",
    "tokenizer = text.Tokenizer(num_words = max_features, filters=\"\", lower=True, split=\" \")\n",
    "tokenizer.fit_on_texts(df['comment_text'].tolist() + dfHoldOut['comment_text'].tolist() + dfTest['comment_text'].tolist())\n",
    "\n",
    "print(len(tokenizer.word_index))\n",
    "tokenize_dict = tokenizer.word_index"
   ]
  },
  {
   "cell_type": "markdown",
   "metadata": {},
   "source": [
    "## Embedding Loadup"
   ]
  },
  {
   "cell_type": "code",
   "execution_count": 5,
   "metadata": {},
   "outputs": [
    {
     "name": "stdout",
     "output_type": "stream",
     "text": [
      "Loading file ../input/vector-jigsaw/jigsaw.pkl\n",
      "Loaded\n",
      "792179\n",
      "lookup_index: 713144\n",
      "Total Words: 713144 Total Unknow Words: 2132 Total Found: 711012\n",
      "Embeddings shape: (713145, 150)\n",
      "\n",
      "WARNING: The TensorFlow contrib module will not be included in TensorFlow 2.0.\n",
      "For more information, please see:\n",
      "  * https://github.com/tensorflow/community/blob/master/rfcs/20180907-contrib-sunset.md\n",
      "  * https://github.com/tensorflow/addons\n",
      "If you depend on functionality not listed there, please file an issue.\n",
      "\n",
      "WARNING:tensorflow:From /opt/conda/lib/python3.6/site-packages/tensorflow/python/ops/lookup_ops.py:1137: to_int64 (from tensorflow.python.ops.math_ops) is deprecated and will be removed in a future version.\n",
      "Instructions for updating:\n",
      "Use tf.cast instead.\n",
      "(713145, 150)\n",
      "['cannot', 'gonna', 'gotta', 'wanna', 'gimme', '\\xa0', 'lemme', '\\xa0the', '\\u2004\\u2004\\u2004usa', '\\u2009', '\\xa0and', '\\xa0million', '\\xa0a', '\\u2009\\u2009', '\\xa0http', '\\u200aand', '\\xa0if', '\\xa0that', '\\u2002', '\\u2028', 'of\\xa0the', '✨\\u2005\\u2005', 'repatriate»', 'for\\xa0the', '\\xa0\\xa0', 'tombeau»', '☭\\u2004', 'growth\\u2028', '\\xa0people', '«sir', '»«', '\\u2009trillion', '»i', '\\xa0of', '\\xa0\\xa0\\xa0\\xa0\\xa0', '\\xa0is', 'that\\xa0there', '»theres', '\\xa0billion', 'a\\xa0', '\\u2028\\u2028•', 'c\\u2009', 'president\\xa0john', '\\xa0its', '\\u2009°c', '«superhero', 'act\\xa0', '«it', 'all\\xa0', '\\xa0obama', '\\xa0i', 'of«', 'at\\xa0\\xa0per', '«rhetorical', '\\x85us', 'ontario«regulation', '\\u3000', 'all\\xa0the', '\\xa0in', 'greenbook\\xa0cuts', 'affairs\\xa0https', 'the\\xa0termination', 'fix\\xa0americas', 'system\\xa0in', 'the\\xa0bureau', 'the\\xa0', '§\\xa0', '\\xa0thats', 'of\\xa0', 'principle\\u2028go', '\\u2028used', 'peopleproblems\\xa0are', 'can\\xa0broker', 'east\\xa0and\\xa0revolutionize', 'by\\xa0', '\\xa0we', 'to\\xa0the', '\\xa0not', '\\xa0\\xa0\\xa0\\xa0\\xa0\\xa0\\xa0\\xa0\\xa0\\xa0\\xa0\\xa0\\xa0\\xa0\\xa0\\xa0\\xa0\\xa0\\xa0\\xa0\\xa0\\xa0\\xa0\\xa0\\xa0\\xa0\\xa0\\xa0\\xa0\\xa0\\xa0\\xa0there', '\\xa0including', '\\xa0this', 'vegas\\xa0although', '\\xa0percent', 'month\\u200a', '»you', '\\u2004', 'targets\\u2028•supporting', 'district\\u2028•virtual', 'kelly\\xa0', 'peter\\xa0micciche\\xa0', 'bishop\\xa0', 'mike\\xa0dunleavy\\xa0', 'giessel\\xa0', 'anna\\xa0', 'mackinnon\\xa0', 'than\\xa0', 'problems\\u3000read', 'trust\\xa0that', 'slimy\\xa0grasp', '\\xa0occasioned']\n"
     ]
    },
    {
     "data": {
      "text/plain": [
       "0"
      ]
     },
     "execution_count": 5,
     "metadata": {},
     "output_type": "execute_result"
    }
   ],
   "source": [
    "def load_embeddings_partial(embedings_filepath, tokenize_dict, embedding_size=300):\n",
    "    def load_embeddings_vec(path):\n",
    "        def nop(it, *a, **k):\n",
    "            return it\n",
    "\n",
    "        def get_coefs(word, *arr):\n",
    "            return word, np.asarray(arr, dtype='float32')\n",
    "\n",
    "        tqdm = nop\n",
    "        with open(path) as f:\n",
    "            return dict(get_coefs(*line.strip().split(' ')) for line in tqdm(f))\n",
    "\n",
    "    def load_embeddings_pkl(path):\n",
    "        with open(path,'rb') as f:\n",
    "            emb_arr = pickle.load(f)\n",
    "        return emb_arr\n",
    "    print(\"Loading file\", embedings_filepath)\n",
    "    if embedings_filepath.endswith(\"pkl\"):\n",
    "        embedding_index_ = load_embeddings_pkl(embedings_filepath)\n",
    "    else:\n",
    "        embedding_index_ = load_embeddings_vec(embedings_filepath)\n",
    "    print(\"Loaded\")\n",
    "\n",
    "    embedding_index = {}\n",
    "    for key, value in embedding_index_.items():\n",
    "        embedding_index[key.lower()] = value\n",
    "    del embedding_index_\n",
    "\n",
    "    print(len(embedding_index))\n",
    "    embeddings = np.zeros((len(tokenize_dict) + 1, embedding_size))\n",
    "    unknown_words = []\n",
    "\n",
    "    tokens = list(tokenize_dict.keys())\n",
    "    found = 0\n",
    "    lookup_index = OrderedDict()\n",
    "    for i in range(len(tokens)):\n",
    "        try:\n",
    "            word = tokens[i]\n",
    "            lookup_index[word] = i\n",
    "            embeddings[i] = embedding_index[word]\n",
    "            found += 1\n",
    "        except Exception as err:\n",
    "            unknown_words.append(word)\n",
    "\n",
    "    del embedding_index\n",
    "    print(\"lookup_index:\", len(list(lookup_index.keys())))\n",
    "    \n",
    "    print(\"Total Words:\", len(tokenize_dict), \"Total Unknow Words:\", len(unknown_words), \"Total Found:\", found)\n",
    "    print(\"Embeddings shape:\", embeddings.shape)\n",
    "\n",
    "    \"\"\" Dictionary which gives index of word in embeddings,\n",
    "    Eg. lookup_index['word'] will return integer value, and at that index location in embeddings we can find its vector \"\"\"\n",
    "    lookup_index_tf = tf.constant(list(lookup_index.keys()))\n",
    "    table = tf.contrib.lookup.index_table_from_tensor(mapping=lookup_index_tf, default_value=lookup_index[\"-\"])\n",
    "    gc.collect()\n",
    "    return embeddings, table, unknown_words\n",
    "\n",
    "embedding_filepath = \"../input/pickled-crawl300d2m-for-kernel-competitions/crawl-300d-2M.pkl\"\n",
    "embedding_filepath = \"../input/pickled-glove840b300d-for-10sec-loading/glove.840B.300d.pkl\"\n",
    "embedding_filepath = \"../input/vector-jigsaw/jigsaw.pkl\"\n",
    "# embedding_filepath = \"../input/crawl300d2m/crawl-300d-2M.vec\"\n",
    "# embedding_filepath = \"../input/glove-840b-300d/glove.840B.300d.txt\"\n",
    "\n",
    "embeddings, table, unknown_words = load_embeddings_partial(embedding_filepath, tokenize_dict,\n",
    "                                                           embedding_size=150)\n",
    "embeddings_tf = tf.placeholder(tf.float32, embeddings.shape, name='embeddings_tf')\n",
    "\n",
    "print(embeddings.shape)\n",
    "print(unknown_words[0:100])\n",
    "gc.collect()"
   ]
  },
  {
   "cell_type": "markdown",
   "metadata": {},
   "source": [
    "### Model Creation"
   ]
  },
  {
   "cell_type": "code",
   "execution_count": 6,
   "metadata": {},
   "outputs": [],
   "source": [
    "n_x  = 150\n",
    "n_y = 2\n",
    "n_t = 200\n",
    "result_at_mod = 50"
   ]
  },
  {
   "cell_type": "code",
   "execution_count": 7,
   "metadata": {},
   "outputs": [
    {
     "name": "stdout",
     "output_type": "stream",
     "text": [
      "<tensorflow.python.framework.ops.Graph object at 0x7fb7616bd128>\n",
      "WARNING:tensorflow:From /opt/conda/lib/python3.6/site-packages/tensorflow/python/framework/op_def_library.py:263: colocate_with (from tensorflow.python.framework.ops) is deprecated and will be removed in a future version.\n",
      "Instructions for updating:\n",
      "Colocations handled automatically by placer.\n",
      "x: (?, 200, 150)\n",
      "(?, 200, 150)\n",
      "WARNING:tensorflow:From <ipython-input-7-a9f920f18958>:23: max_pooling1d (from tensorflow.python.layers.pooling) is deprecated and will be removed in a future version.\n",
      "Instructions for updating:\n",
      "Use keras.layers.max_pooling1d instead.\n",
      "CONV1 (?, 100, 64)\n",
      "CONV2 (?, 50, 128)\n",
      "CONV3 (?, 25, 256)\n",
      "CONV4 (?, 13, 512)\n",
      "WARNING:tensorflow:From /opt/conda/lib/python3.6/site-packages/tensorflow/contrib/layers/python/layers/layers.py:1624: flatten (from tensorflow.python.layers.core) is deprecated and will be removed in a future version.\n",
      "Instructions for updating:\n",
      "Use keras.layers.flatten instead.\n",
      "FLATTEN (?, 6656)\n",
      "WARNING:tensorflow:From <ipython-input-7-a9f920f18958>:48: dense (from tensorflow.python.layers.core) is deprecated and will be removed in a future version.\n",
      "Instructions for updating:\n",
      "Use keras.layers.dense instead.\n",
      "WARNING:tensorflow:From <ipython-input-7-a9f920f18958>:49: calling dropout (from tensorflow.python.ops.nn_ops) with keep_prob is deprecated and will be removed in a future version.\n",
      "Instructions for updating:\n",
      "Please use `rate` instead of `keep_prob`. Rate should be set to `rate = 1 - keep_prob`.\n",
      "Dense1 (?, 1024)\n",
      "Dense2 (?, 512)\n",
      "logits: Tensor(\"dense_1/LeakyRelu:0\", shape=(?, 2), dtype=float32)\n",
      "WARNING:tensorflow:From <ipython-input-7-a9f920f18958>:75: to_float (from tensorflow.python.ops.math_ops) is deprecated and will be removed in a future version.\n",
      "Instructions for updating:\n",
      "Use tf.cast instead.\n",
      "<tensorflow.python.framework.ops.Graph object at 0x7fb7616bd128>\n"
     ]
    }
   ],
   "source": [
    "# tf.reset_default_graph()\n",
    "results = {}\n",
    "G = tf.Graph()\n",
    "print(G)\n",
    "with G.as_default():\n",
    "    counter = tf.Variable(0, name='counter', trainable=False)\n",
    "    assert counter.graph is G\n",
    "\n",
    "    xav_init = tf.contrib.layers.xavier_initializer\n",
    "    keep_prob = tf.placeholder(dtype=tf.float32, name='keep_prob')\n",
    "    learning_rate = tf.placeholder(dtype=tf.float32, name='learning_rate')\n",
    "    x = tf.placeholder(shape=[None, n_t, n_x], dtype=tf.float32, name='x')\n",
    "    y = tf.placeholder(shape=[None], dtype=tf.int32, name='y')\n",
    "    class_weights = tf.placeholder(shape=[1, 2], dtype=tf.float32)\n",
    "    print(\"x:\", x.shape)\n",
    "    yt = tf.reshape(y, [-1])  # check this print yt and yb\n",
    "    \n",
    "    input_ = tf.cast(x, tf.float32)\n",
    "    print(input_.shape)\n",
    "    with tf.variable_scope(\"conv1\") as scope:\n",
    "        net = tf.contrib.layers.conv1d(input_, 64, 5, activation_fn=tf.nn.leaky_relu, padding='SAME',\n",
    "            weights_initializer=xav_init(),scope=scope,reuse=False)\n",
    "        net = tf.layers.max_pooling1d(net, pool_size=3, strides=2, padding='SAME')\n",
    "        print(\"CONV1\", net.shape)\n",
    "\n",
    "    with tf.variable_scope(\"conv2\") as scope:\n",
    "        net = tf.contrib.layers.conv1d(net, 128, 5, activation_fn=tf.nn.leaky_relu, padding='SAME',\n",
    "            weights_initializer=xav_init(), scope=scope,reuse=False)\n",
    "        net = tf.layers.max_pooling1d(net, pool_size=3, strides=2, padding='SAME')\n",
    "        print(\"CONV2\", net.shape)\n",
    "\n",
    "    with tf.variable_scope(\"conv3\") as scope:\n",
    "        net = tf.contrib.layers.conv1d(net, 256, 5, activation_fn=tf.nn.leaky_relu, padding='SAME',\n",
    "            weights_initializer=xav_init(), scope=scope,reuse=False)\n",
    "        net = tf.layers.max_pooling1d(net, pool_size=3, strides=2, padding='SAME')\n",
    "        print(\"CONV3\", net.shape)\n",
    "\n",
    "    with tf.variable_scope(\"conv4\") as scope:\n",
    "        net = tf.contrib.layers.conv1d(net, 512, 5, activation_fn=tf.nn.leaky_relu, padding='SAME',\n",
    "            weights_initializer=xav_init(), scope=scope,reuse=False)\n",
    "        net = tf.layers.max_pooling1d(net, pool_size=3, strides=2, padding='SAME')\n",
    "        print(\"CONV4\", net.shape)\n",
    "    flatten = tf.contrib.layers.flatten(net)\n",
    "    print(\"FLATTEN\", flatten.shape)\n",
    "\n",
    "    with tf.variable_scope(\"dnn1\") as scope:\n",
    "        dense = tf.layers.dense(inputs=flatten, units=1024, kernel_initializer=xav_init(),\n",
    "                                activation=tf.nn.leaky_relu)\n",
    "        dense = tf.nn.dropout(dense, keep_prob=keep_prob)\n",
    "        print(\"Dense1\", dense.shape)\n",
    "\n",
    "    with tf.variable_scope(\"dnn2\") as scope:\n",
    "        dense = tf.layers.dense(inputs=dense, units=512, kernel_initializer=xav_init(), \n",
    "                            activation=tf.nn.leaky_relu)\n",
    "        print(\"Dense2\", dense.shape)\n",
    "\n",
    "    logits = tf.layers.dense(inputs=dense,kernel_initializer=xav_init(), \n",
    "                             activation=tf.nn.leaky_relu, units=2)\n",
    "\n",
    "    logits = tf.layers.dense(inputs=dense,kernel_initializer=xav_init(), \n",
    "                             activation=tf.nn.leaky_relu, units=2)\n",
    "\n",
    "    print(\"logits:\", logits)\n",
    "\n",
    "    predictions_softmax = tf.nn.softmax(logits)\n",
    "    predictions_argmax  =  tf.argmax(predictions_softmax, axis=1)\n",
    "\n",
    "    train_vars   = tf.trainable_variables() \n",
    "    l2_loss = tf.add_n([ tf.nn.l2_loss(v) for v in train_vars if 'bias' not in v.name ]) * 0.001\n",
    "    l2_loss_mean = tf.reduce_mean(l2_loss)\n",
    "\n",
    "    \n",
    "    yt_onehot = tf.one_hot(yt, n_y)\n",
    "    \n",
    "    weight_per_label = tf.linalg.matmul(tf.to_float(yt_onehot), tf.transpose(class_weights)) # shape [batch_size, 2]\n",
    "    loss_all = tf.math.multiply(weight_per_label, tf.nn.sparse_softmax_cross_entropy_with_logits(logits=logits, labels=yt))\n",
    "\n",
    "    loss_all_mean = tf.reduce_mean(loss_all)\n",
    "\n",
    "    #     loss_train = loss_all + 0.5 * (1 - f1)    \n",
    "    loss_train = loss_all + l2_loss_mean * 0.005\n",
    "    loss = tf.reduce_mean(loss_train)\n",
    "\n",
    "    tf.summary.scalar('loss_modified', loss)\n",
    "    tf.summary.scalar('loss', tf.reduce_mean(loss_all))\n",
    "\n",
    "    #     optimizer = tf.train.AdamOptimizer(learning_rate=learning_rate)\n",
    "    #     tvars = tf.trainable_variables()\n",
    "    #     grads, _ = tf.clip_by_global_norm(tf.gradients(loss_all, tvars), 10)\n",
    "    #     train_op = optimizer.apply_gradients(zip(grads, tvars))\n",
    "\n",
    "    train_op = tf.train.AdamOptimizer(learning_rate=learning_rate).minimize(loss_train)\n",
    "    global_step = tf.assign_add(counter, 1, name='global_step')\n",
    "\n",
    "    cls_sess = tf.Session()\n",
    "    init_op = tf.group(tf.global_variables_initializer(), tf.local_variables_initializer())\n",
    "    cls_sess.run(init_op)\n",
    "\n",
    "    #     total_parameters = np.sum([np.prod(v.shape) for v in tf.trainable_variables()])\n",
    "    #     print(total_parameters)\n",
    "    print(loss.graph)"
   ]
  },
  {
   "cell_type": "code",
   "execution_count": 8,
   "metadata": {},
   "outputs": [
    {
     "name": "stdout",
     "output_type": "stream",
     "text": [
      "Epoch: 0\n",
      "Iterations: 1229\n"
     ]
    },
    {
     "name": "stderr",
     "output_type": "stream",
     "text": [
      "\u001b[2K #### Train Progress 0 Loss(avg): 0.77 P: 0.12 R: 0.02 F1: 0.04 Acc: 0.92 Time: 0.1/opt/conda/lib/python3.6/site-packages/sklearn/metrics/classification.py:1143: UndefinedMetricWarning: Precision is ill-defined and being set to 0.0 due to no predicted samples.\n",
      "  'precision', 'predicted', average, warn_for)\n",
      "/opt/conda/lib/python3.6/site-packages/sklearn/metrics/classification.py:1143: UndefinedMetricWarning: F-score is ill-defined and being set to 0.0 due to no predicted samples.\n",
      "  'precision', 'predicted', average, warn_for)\n",
      "\u001b[2K #### Train Progress 99 Loss(avg): 0.04 P: 0.69 R: 0.35 F1: 0.47 Acc: 0.94 Time: 2.85"
     ]
    },
    {
     "name": "stdout",
     "output_type": "stream",
     "text": [
      "365.1125023365021\n",
      "Iterations: 270\n"
     ]
    },
    {
     "name": "stderr",
     "output_type": "stream",
     "text": [
      "\u001b[2K #### Validation Eval Progress  99 Loss(avg): 0.03 P: 0.75 R: 0.45 F1: 0.56 Acc: 0.94 Time: 0.65"
     ]
    },
    {
     "name": "stdout",
     "output_type": "stream",
     "text": [
      "79.19712495803833\n",
      "Epoch: 1\n",
      "Iterations: 1229\n"
     ]
    },
    {
     "name": "stderr",
     "output_type": "stream",
     "text": [
      "\u001b[2K #### Train Progress 99 Loss(avg): 0.03 P: 0.75 R: 0.48 F1: 0.58 Acc: 0.95 Time: 2.88"
     ]
    },
    {
     "name": "stdout",
     "output_type": "stream",
     "text": [
      "365.93937373161316\n",
      "Iterations: 270\n"
     ]
    },
    {
     "name": "stderr",
     "output_type": "stream",
     "text": [
      "\u001b[2K #### Validation Eval Progress  99 Loss(avg): 0.02 P: 0.76 R: 0.47 F1: 0.58 Acc: 0.95 Time: 0.68"
     ]
    },
    {
     "name": "stdout",
     "output_type": "stream",
     "text": [
      "84.91509890556335\n",
      "Epoch: 2\n",
      "Iterations: 1229\n"
     ]
    },
    {
     "name": "stderr",
     "output_type": "stream",
     "text": [
      "\u001b[2K #### Train Progress 99 Loss(avg): 0.02 P: 0.76 R: 0.5 F1: 0.6 Acc: 0.95 Time: 2.8"
     ]
    },
    {
     "name": "stdout",
     "output_type": "stream",
     "text": [
      "371.54562044143677\n",
      "Iterations: 270\n"
     ]
    },
    {
     "name": "stderr",
     "output_type": "stream",
     "text": [
      "\u001b[2K #### Validation Eval Progress  99 Loss(avg): 0.02 P: 0.76 R: 0.49 F1: 0.6 Acc: 0.95 Time: 0.63"
     ]
    },
    {
     "name": "stdout",
     "output_type": "stream",
     "text": [
      "89.91597962379456\n",
      "Epoch: 3\n",
      "Iterations: 1229\n"
     ]
    },
    {
     "name": "stderr",
     "output_type": "stream",
     "text": [
      "\u001b[2K #### Train Progress 99 Loss(avg): 0.02 P: 0.76 R: 0.51 F1: 0.61 Acc: 0.95 Time: 2.82"
     ]
    },
    {
     "name": "stdout",
     "output_type": "stream",
     "text": [
      "373.8277699947357\n",
      "Iterations: 270\n"
     ]
    },
    {
     "name": "stderr",
     "output_type": "stream",
     "text": [
      "\u001b[2K #### Validation Eval Progress  99 Loss(avg): 0.02 P: 0.73 R: 0.54 F1: 0.62 Acc: 0.95 Time: 0.66"
     ]
    },
    {
     "name": "stdout",
     "output_type": "stream",
     "text": [
      "94.62767291069031\n",
      "Epoch: 4\n",
      "Iterations: 1229\n"
     ]
    },
    {
     "name": "stderr",
     "output_type": "stream",
     "text": [
      "\u001b[2K #### Train Progress 99 Loss(avg): 0.02 P: 0.76 R: 0.52 F1: 0.62 Acc: 0.95 Time: 2.8"
     ]
    },
    {
     "name": "stdout",
     "output_type": "stream",
     "text": [
      "376.676584482193\n",
      "Iterations: 270\n"
     ]
    },
    {
     "name": "stderr",
     "output_type": "stream",
     "text": [
      "\u001b[2K #### Validation Eval Progress  99 Loss(avg): 0.02 P: 0.74 R: 0.53 F1: 0.62 Acc: 0.95 Time: 0.68"
     ]
    },
    {
     "name": "stdout",
     "output_type": "stream",
     "text": [
      "101.51248669624329\n",
      "Epoch: 5\n",
      "Iterations: 1229\n"
     ]
    },
    {
     "name": "stderr",
     "output_type": "stream",
     "text": [
      "\u001b[2K #### Train Progress 99 Loss(avg): 0.02 P: 0.76 R: 0.52 F1: 0.62 Acc: 0.95 Time: 2.8"
     ]
    },
    {
     "name": "stdout",
     "output_type": "stream",
     "text": [
      "393.13282227516174\n",
      "Iterations: 270\n"
     ]
    },
    {
     "name": "stderr",
     "output_type": "stream",
     "text": [
      "\u001b[2K #### Validation Eval Progress  99 Loss(avg): 0.02 P: 0.73 R: 0.54 F1: 0.62 Acc: 0.95 Time: 0.67"
     ]
    },
    {
     "name": "stdout",
     "output_type": "stream",
     "text": [
      "104.4983696937561\n",
      "Iterations: 265\n"
     ]
    },
    {
     "name": "stderr",
     "output_type": "stream",
     "text": [
      "\u001b[2K #### Holdout Eval Progress  99 Loss(avg): 0.02 P: 0.73 R: 0.54 F1: 0.62 Acc: 0.95 Time: 0.64"
     ]
    },
    {
     "name": "stdout",
     "output_type": "stream",
     "text": [
      "103.83920550346375\n"
     ]
    }
   ],
   "source": [
    "def parse_function(row):\n",
    "        row = table.lookup(row)\n",
    "        output = tf.nn.embedding_lookup(embeddings_tf, row)\n",
    "        \"\"\" See how can we add below features that were their in the original\n",
    "        pos_tag(sent)\n",
    "        getWordFeatures(token)\n",
    "        \"\"\"\n",
    "        return output\n",
    "    \n",
    "def getDatasetIterator(ids, texts, labels, mode=\"TRAIN\", batchsize=2, dimentions=100):\n",
    "    def truncate(x):\n",
    "        dim = tf.size(x)\n",
    "        return tf.cond(tf.equal(dim, n_t), \n",
    "            lambda: x, lambda: tf.cond(tf.greater(dim, n_t),\n",
    "            lambda: tf.slice(x, [0], [n_t]), \n",
    "            lambda: x, 0))\n",
    "\n",
    "    sentences = tf.data.Dataset.from_tensor_slices(texts)\n",
    "    sentences = sentences.map(lambda string: tf.string_split([string]).values)\n",
    "    sentences = sentences.map(truncate)\n",
    "    #sentences = sentences.map(parse_function, num_parallel_calls=4)\n",
    "    sentences_embed = sentences.map(parse_function)\n",
    "    if mode in ['TRAIN', 'EVAL']:\n",
    "        ids =  tf.data.Dataset.from_tensor_slices(ids)\n",
    "        labels = tf.data.Dataset.from_tensor_slices(labels)\n",
    "        dataset = tf.data.Dataset.zip((ids, sentences_embed, labels))\n",
    "        if mode == \"TRAIN\":\n",
    "            dataset = dataset.shuffle(buffer_size=batchsize*2)\n",
    "        dataset = dataset.padded_batch(batchsize, padded_shapes=([], [n_t, dimentions], []),\n",
    "                                       drop_remainder=True)\n",
    "    elif mode in ['PREDICT']:\n",
    "        ids =  tf.data.Dataset.from_tensor_slices(ids)\n",
    "        dataset = tf.data.Dataset.zip((ids, sentences_embed))        \n",
    "        dataset = dataset.padded_batch(batchsize, padded_shapes=([], [n_t, dimentions]))\n",
    "    dataset = dataset.prefetch(1)\n",
    "    iterator = dataset.make_initializable_iterator()\n",
    "    next_element = iterator.get_next()\n",
    "    init_op = iterator.initializer\n",
    "    return init_op, next_element\n",
    "\n",
    "def execute(df, batchsize=4, mode=\"TRAIN\", max_timestamps=200, comment=\"\"):\n",
    "    df['comment_text'] = df['comment_text'].apply(lambda x: x.replace(\"\\n\", ''))\n",
    "\n",
    "    init_op_model, next_element_model = getDatasetIterator(df['id'], df['comment_text'], df['pred'] if mode in ['TRAIN', 'EVAL'] else None, \n",
    "                                                           mode=mode, batchsize=batchsize, dimentions=n_x)\n",
    "\n",
    "    sess = tf.Session()\n",
    "    sess.run(tf.tables_initializer())\n",
    "\n",
    "    print(\"Iterations:\", int(math.ceil(df.shape[0] / batchsize)))\n",
    "    sess.run(init_op_model, feed_dict={embeddings_tf: embeddings})\n",
    "\n",
    "    eval_loss = []\n",
    "    train_loss = []\n",
    "    y_true_all = []\n",
    "    y_pred_all = []\n",
    "    predictions = []\n",
    "\n",
    "    while True:\n",
    "        st = time.time()\n",
    "        try:\n",
    "            batch = sess.run(next_element_model)\n",
    "            ids = batch[0]\n",
    "            xb = batch[1]\n",
    "            if mode in ['TRAIN', 'EVAL']:\n",
    "                yb = batch[2].astype(np.int)\n",
    "\n",
    "            if xb.shape[1] > max_timestamps:\n",
    "                xb = xb[:, 0:max_timestamps, :]\n",
    "\n",
    "            if mode == \"TRAIN\":\n",
    "                ratio = (np.sum(yb) + 0.0001) / np.size(yb) \n",
    "                result = cls_sess.run([train_op, global_step, loss, predictions_argmax, yt],\n",
    "                                       feed_dict = {\n",
    "                                                x: xb, y: yb, keep_prob: 0.85, learning_rate: 0.002,\n",
    "                                                class_weights: [[ratio, 1.0 - ratio]],\n",
    "                                        })\n",
    "                global_step_, loss_, y_pred, y_true = result[1:5]\n",
    "                train_loss.append(loss_)\n",
    "                y_true_all.extend(y_true)\n",
    "                y_pred_all.extend(y_pred)\n",
    "                total_elem = df.shape[0]\n",
    "                total_processed = len(y_pred_all)\n",
    "                complete_percent = int((total_processed / total_elem) * 100 )\n",
    "\n",
    "                if complete_percent < 3 or complete_percent > 98 or complete_percent % result_at_mod == 0 :\n",
    "                    cmd = [\"####\", comment, \"Progress\", str(complete_percent), \n",
    "                           \"Loss(avg):\", str(round(np.mean(train_loss), 2)), \n",
    "                           \"P:\", str(round(metrics.precision_score(y_true_all, y_pred_all), 2)),\n",
    "                           \"R:\", str(round(metrics.recall_score(y_true_all, y_pred_all), 2)),\n",
    "                           \"F1:\", str(round(metrics.f1_score(y_true_all, y_pred_all), 2)),\n",
    "                           \"Acc:\", str(round(metrics.accuracy_score(y_true_all, y_pred_all), 2)),\n",
    "                           'Time:', str(round(time.time() - st, 2))]\n",
    "                    cmd = \" \".join(cmd)\n",
    "                    sys.stderr.write('\\r\\033[2K %s' % (cmd))\n",
    "                    sys.stderr.flush()\n",
    "\n",
    "                results[global_step_] = {\n",
    "                                        'P': round(metrics.precision_score(y_true, y_pred), 2),\n",
    "                                        'R': round(metrics.recall_score(y_true, y_pred), 2),\n",
    "                                        'F1': round(metrics.f1_score(y_true, y_pred), 2),\n",
    "                                        'ACC': round(metrics.accuracy_score(y_true, y_pred), 2),\n",
    "                                        'Loss': round(loss_, 3)\n",
    "                }\n",
    "\n",
    "            elif mode == \"EVAL\":\n",
    "                ratio = (np.sum(yb) + 0.0001) / np.size(yb) \n",
    "                result = cls_sess.run([loss, predictions_argmax, yt],\n",
    "                                       feed_dict = { \n",
    "                                                x: xb, y: yb, keep_prob: 1.0,\n",
    "                                                class_weights: [[ratio, 1.0 - ratio]]\n",
    "                                       })\n",
    "\n",
    "                loss_, y_pred, y_true = result[0: 3]\n",
    "#                     print(y_true, y_pred)\n",
    "#                     print(result[-2])\n",
    "                eval_loss.append(loss_)\n",
    "                y_true_all.extend(y_true)\n",
    "                y_pred_all.extend(y_pred)\n",
    "\n",
    "                total_elem = df.shape[0]\n",
    "                total_processed = len(y_pred_all)\n",
    "                complete_percent = int((total_processed / total_elem) * 100 )\n",
    "                if complete_percent < 3 or complete_percent > 98 or complete_percent % result_at_mod == 0 :\n",
    "                    cmd = [\"####\", comment, \"Progress \", str(complete_percent), \"Loss(avg):\", str(round(np.mean(eval_loss), 2)), \n",
    "                           \"P:\", str(round(metrics.precision_score(y_true_all, y_pred_all), 2)),\n",
    "                          \"R:\", str(round(metrics.recall_score(y_true_all, y_pred_all), 2)),\n",
    "                          \"F1:\", str(round(metrics.f1_score(y_true_all, y_pred_all), 2)),\n",
    "                          \"Acc:\", str(round(metrics.accuracy_score(y_true_all, y_pred_all), 2)),\n",
    "                          'Time:', str(round(time.time() - st, 2))]\n",
    "                    cmd = \" \".join(cmd)\n",
    "                    sys.stderr.write('\\r\\033[2K %s' % (cmd))\n",
    "                    sys.stderr.flush()\n",
    "            elif mode == \"PREDICT\":\n",
    "                result = cls_sess.run([predictions_softmax], feed_dict = { x: xb, keep_prob: 1.0 })\n",
    "                prediction = result[0]\n",
    "                prediction = list(zip(ids, prediction[:, 1]))\n",
    "                predictions.extend(prediction)\n",
    "            \n",
    "            del xb\n",
    "            del ids\n",
    "            \n",
    "        except tf.errors.OutOfRangeError as err:\n",
    "            break\n",
    "        except Exception as err:\n",
    "            print(err)\n",
    "    gc.collect()\n",
    "#     time.sleep(5)\n",
    "    return predictions\n",
    "\n",
    "# df = shuffle(df.head(1))\n",
    "# print(df[['comment_text', 'pred']].head(1))\n",
    "\n",
    "# execute(df.head(2048), batchsize=1024, totalEpoch=3, mode=\"TRAIN\", comment=\"Train\")\n",
    "\n",
    "# epoch = 4\n",
    "epoch = 6\n",
    "for i in range(epoch):\n",
    "    print(\"Epoch:\", i)\n",
    "    st = time.time()\n",
    "    execute(df, batchsize=1024, mode=\"TRAIN\", max_timestamps=n_t, comment=\"Train\")\n",
    "    print(time.time() - st)\n",
    "    st = time.time()\n",
    "    execute(dfVal, batchsize=1024, mode=\"EVAL\", max_timestamps=n_t, comment=\"Validation Eval\")\n",
    "    print(time.time() - st)\n",
    "\n",
    "st = time.time()\n",
    "execute(dfHoldOut, batchsize=1024, mode=\"EVAL\", max_timestamps=n_t, comment=\"Holdout Eval\")\n",
    "print(time.time() - st)"
   ]
  },
  {
   "cell_type": "code",
   "execution_count": 9,
   "metadata": {},
   "outputs": [
    {
     "name": "stdout",
     "output_type": "stream",
     "text": [
      "Iterations: 96\n"
     ]
    },
    {
     "data": {
      "text/plain": [
       "(97320, 2)"
      ]
     },
     "execution_count": 9,
     "metadata": {},
     "output_type": "execute_result"
    }
   ],
   "source": [
    "predictions = execute(dfTest, batchsize=1024, max_timestamps=n_t, mode=\"PREDICT\", comment=\"Predictions\")\n",
    "dfResult = pd.DataFrame(predictions, columns=['id', 'prediction'])\n",
    "dfResult.to_csv(\"submission.csv\", index=False)\n",
    "dfResult.shape"
   ]
  },
  {
   "cell_type": "markdown",
   "metadata": {},
   "source": [
    "## Graphs"
   ]
  },
  {
   "cell_type": "code",
   "execution_count": 10,
   "metadata": {},
   "outputs": [
    {
     "data": {
      "image/png": "[encoded data removed]",
      "text/plain": [
       "<Figure size 432x288 with 5 Axes>"
      ]
     },
     "metadata": {},
     "output_type": "display_data"
    }
   ],
   "source": [
    "import matplotlib.pyplot as plt\n",
    "window = 5\n",
    "iterations = sorted(results.keys())\n",
    "f1 = pd.Series([results[x]['F1'] for x in iterations]).rolling(window=window).mean()\n",
    "p = pd.Series([results[x]['P'] for x in iterations]).rolling(window=window).mean()\n",
    "r = pd.Series([results[x]['R'] for x in iterations]).rolling(window=window).mean()\n",
    "acc = pd.Series([results[x]['ACC'] for x in iterations]).rolling(window=window).mean()\n",
    "loss_vals = pd.Series([results[x]['Loss'] for x in iterations]).rolling(window=window).mean()\n",
    "\n",
    "# plt.plot(year, pop_pakistan, color='g')\n",
    "rows = 3\n",
    "cols = 2\n",
    "\n",
    "plt.subplot(rows, cols, 1)\n",
    "plt.plot(iterations, f1, color='orange')\n",
    "plt.xlabel('Iterations')\n",
    "plt.ylabel('F1')\n",
    "\n",
    "plt.subplot(rows, cols, 2)\n",
    "plt.plot(iterations, p, color='blue')\n",
    "plt.xlabel('Iterations')\n",
    "plt.ylabel('Precision')\n",
    "\n",
    "plt.subplot(rows, cols, 3)\n",
    "plt.plot(iterations, r, color='black')\n",
    "plt.xlabel('Iterations')\n",
    "plt.ylabel('Recall')\n",
    "\n",
    "plt.subplot(rows, cols, 4)\n",
    "plt.plot(iterations, acc, color='green')\n",
    "plt.xlabel('Iterations')\n",
    "plt.ylabel('Acc')\n",
    "\n",
    "plt.subplot(rows, cols, 5)\n",
    "plt.plot(iterations, loss_vals, color='red')\n",
    "plt.xlabel('Iterations')\n",
    "plt.ylabel('Loss')\n",
    "\n",
    "plt.tight_layout()\n",
    "plt.show()"
   ]
  }
 ],
 "metadata": {
  "kernelspec": {
   "display_name": "Python 3",
   "language": "python",
   "name": "python3"
  },
  "language_info": {
   "codemirror_mode": {
    "name": "ipython",
    "version": 3
   },
   "file_extension": ".py",
   "mimetype": "text/x-python",
   "name": "python",
   "nbconvert_exporter": "python",
   "pygments_lexer": "ipython3",
   "version": "3.6.4"
  }
 },
 "nbformat": 4,
 "nbformat_minor": 1
}
