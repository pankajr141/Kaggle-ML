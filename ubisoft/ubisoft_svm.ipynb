{
  "nbformat": 4,
  "nbformat_minor": 0,
  "metadata": {
    "colab": {
      "name": "ubisoft_svm.ipynb",
      "version": "0.3.2",
      "provenance": [],
      "collapsed_sections": [],
      "include_colab_link": true
    },
    "kernelspec": {
      "name": "python3",
      "display_name": "Python 3"
    }
  },
  "cells": [
    {
      "cell_type": "markdown",
      "metadata": {
        "id": "view-in-github",
        "colab_type": "text"
      },
      "source": [
        "<a href=\"https://colab.research.google.com/github/pankajr141/Kaggle-ML/blob/master/ubisoft/ubisoft_svm.ipynb\" target=\"_parent\"><img src=\"https://colab.research.google.com/assets/colab-badge.svg\" alt=\"Open In Colab\"/></a>"
      ]
    },
    {
      "cell_type": "code",
      "metadata": {
        "id": "IXOXWZvLAEPw",
        "colab_type": "code",
        "outputId": "24563381-0d5c-482c-ae75-1fb6394b8972",
        "colab": {
          "base_uri": "https://localhost:8080/",
          "height": 34
        }
      },
      "source": [
        "from google.colab import drive\n",
        "drive.mount(r'/content/drive')"
      ],
      "execution_count": 0,
      "outputs": [
        {
          "output_type": "stream",
          "text": [
            "Drive already mounted at /content/drive; to attempt to forcibly remount, call drive.mount(\"/content/drive\", force_remount=True).\n"
          ],
          "name": "stdout"
        }
      ]
    },
    {
      "cell_type": "code",
      "metadata": {
        "id": "5VjWMLuYAPms",
        "colab_type": "code",
        "colab": {}
      },
      "source": [
        "import os\n",
        "import sys\n",
        "import cv2\n",
        "import copy\n",
        "import matplotlib.pyplot as plt"
      ],
      "execution_count": 0,
      "outputs": []
    },
    {
      "cell_type": "code",
      "metadata": {
        "id": "lyMmxcrNASl9",
        "colab_type": "code",
        "outputId": "219497c3-b986-4198-b3a6-5aeff9c07c79",
        "colab": {
          "base_uri": "https://localhost:8080/",
          "height": 289
        }
      },
      "source": [
        "train_dir = '/content/drive/My Drive/datasets/ubisoft/Train'\n",
        "train_files = [os.path.join(train_dir, x) for x in os.listdir(train_dir)]\n",
        "train_files"
      ],
      "execution_count": 0,
      "outputs": [
        {
          "output_type": "execute_result",
          "data": {
            "text/plain": [
              "['/content/drive/My Drive/datasets/ubisoft/Train/Altair 1.png',\n",
              " '/content/drive/My Drive/datasets/ubisoft/Train/Altair 2.png',\n",
              " '/content/drive/My Drive/datasets/ubisoft/Train/Altair 3.png',\n",
              " '/content/drive/My Drive/datasets/ubisoft/Train/Elexis 1.png',\n",
              " '/content/drive/My Drive/datasets/ubisoft/Train/Altair 4.png',\n",
              " '/content/drive/My Drive/datasets/ubisoft/Train/Altair 5.png',\n",
              " '/content/drive/My Drive/datasets/ubisoft/Train/Elexis 2.png',\n",
              " '/content/drive/My Drive/datasets/ubisoft/Train/Elexis 3.png',\n",
              " '/content/drive/My Drive/datasets/ubisoft/Train/Elexis 4.png',\n",
              " '/content/drive/My Drive/datasets/ubisoft/Train/Elexis 5.png',\n",
              " '/content/drive/My Drive/datasets/ubisoft/Train/Elexis 8.png',\n",
              " '/content/drive/My Drive/datasets/ubisoft/Train/Elexis 7.png',\n",
              " '/content/drive/My Drive/datasets/ubisoft/Train/cropped4.JPG',\n",
              " '/content/drive/My Drive/datasets/ubisoft/Train/cropped1.JPG',\n",
              " '/content/drive/My Drive/datasets/ubisoft/Train/cropped2.JPG',\n",
              " '/content/drive/My Drive/datasets/ubisoft/Train/cropped3.JPG']"
            ]
          },
          "metadata": {
            "tags": []
          },
          "execution_count": 3
        }
      ]
    },
    {
      "cell_type": "code",
      "metadata": {
        "id": "9x1_Zs1wQ2hd",
        "colab_type": "code",
        "outputId": "2b8c4e9d-7892-4d9b-885e-b32b8abbbf20",
        "colab": {
          "base_uri": "https://localhost:8080/",
          "height": 5137
        }
      },
      "source": [
        "import json\n",
        "from shapely.geometry import Polygon\n",
        "\n",
        "outputdir = '/content/drive/My Drive/datasets/ubisoft/cropped/positive'\n",
        "for i in range(150):\n",
        "  train_file = random.choice(train_files)\n",
        "  jsonfile = os.path.join('/content/drive/My Drive/datasets/ubisoft/Annotations/Train.json')\n",
        "  annotations = list(json.load(open(jsonfile)).values()) # don't need the dict keys\n",
        "  annotation = [x for x in annotations if x['filename'] == os.path.basename(train_file)]\n",
        "  print(annotation[0]['regions'])\n",
        "  keys = annotation[0]['regions'].keys()\n",
        "  print(keys)\n",
        "  buf = 64\n",
        "  img = cv2.imread(train_file)\n",
        "  for key in keys:\n",
        "      x = annotation[0]['regions'][key]['shape_attributes']['all_points_x']\n",
        "      y = annotation[0]['regions'][key]['shape_attributes']['all_points_y']\n",
        "\n",
        "      x_min, x_max = np.min(x) - int(buf), np.max(x)\n",
        "      y_min, y_max = np.min(y) , np.max(y) + int(buf)\n",
        "\n",
        "      pts1 = np.array(list(zip(x,y)))\n",
        "\n",
        "\n",
        "      x, y = random.choice(range(x_min, x_max)), random.choice(range(y_min, y_max))\n",
        "      crop_img = img[y-buf:y, x:x+buf]\n",
        "      pts2 = np.array([(x, y), (x, y-buf), (x+buf, y-buf), (x+ buf, y), (x, y)])\n",
        "\n",
        "      p1 = Polygon(pts1)\n",
        "      p2 = Polygon(pts2)\n",
        "      if p1.intersects(p2):\n",
        "          name = os.path.join(outputdir, \"random_%d.jpg\" % random.choice(range(1000000)))\n",
        "          cv2.imwrite(name, crop_img)\n",
        "\n",
        "#       plt.imshow(crop_img)\n",
        "#       plt.show()\n",
        "      \n",
        "#       cv2.polylines(img,[pts1], True, (255, 0, 0), 3)\n",
        "#       cv2.polylines(img,[pts2], True, (255, 0, 0), 3)\n",
        "\n",
        "\n",
        "#       plt.imshow(img)\n",
        "#       plt.show()"
      ],
      "execution_count": 0,
      "outputs": [
        {
          "output_type": "stream",
          "text": [
            "{'0': {'shape_attributes': {'name': 'polygon', 'all_points_x': [95, 97, 107, 116, 146, 145, 126, 115, 114, 138, 110, 95], 'all_points_y': [289, 376, 416, 429, 433, 408, 377, 341, 307, 284, 286, 289]}, 'region_attributes': {'name': 'damage'}}}\n",
            "dict_keys(['0'])\n",
            "{'0': {'shape_attributes': {'name': 'polygon', 'all_points_x': [356, 349, 362, 366, 374, 356], 'all_points_y': [414, 436, 442, 442, 412, 414]}, 'region_attributes': {'name': 'damage'}}}\n",
            "dict_keys(['0'])\n",
            "{'0': {'shape_attributes': {'name': 'polygon', 'all_points_x': [555, 554, 566, 567, 555], 'all_points_y': [354, 372, 379, 359, 354]}, 'region_attributes': {'name': 'damage'}}}\n",
            "dict_keys(['0'])\n",
            "{'0': {'shape_attributes': {'name': 'polygon', 'all_points_x': [237, 242, 258, 258, 237], 'all_points_y': [455, 469, 470, 452, 455]}, 'region_attributes': {'name': 'damage'}}, '1': {'shape_attributes': {'name': 'polygon', 'all_points_x': [300, 308, 317, 316, 300], 'all_points_y': [437, 446, 446, 429, 437]}, 'region_attributes': {'name': 'damage'}}}\n",
            "dict_keys(['0', '1'])\n",
            "{'0': {'shape_attributes': {'name': 'polygon', 'all_points_x': [237, 242, 258, 258, 237], 'all_points_y': [455, 469, 470, 452, 455]}, 'region_attributes': {'name': 'damage'}}, '1': {'shape_attributes': {'name': 'polygon', 'all_points_x': [300, 308, 317, 316, 300], 'all_points_y': [437, 446, 446, 429, 437]}, 'region_attributes': {'name': 'damage'}}}\n",
            "dict_keys(['0', '1'])\n",
            "{'0': {'shape_attributes': {'name': 'polygon', 'all_points_x': [113, 118, 127, 166, 168, 147, 134, 113], 'all_points_y': [101, 120, 125, 125, 119, 108, 99, 101]}, 'region_attributes': {'name': 'damage'}}}\n",
            "dict_keys(['0'])\n",
            "{'0': {'shape_attributes': {'name': 'polygon', 'all_points_x': [237, 242, 258, 258, 237], 'all_points_y': [455, 469, 470, 452, 455]}, 'region_attributes': {'name': 'damage'}}, '1': {'shape_attributes': {'name': 'polygon', 'all_points_x': [300, 308, 317, 316, 300], 'all_points_y': [437, 446, 446, 429, 437]}, 'region_attributes': {'name': 'damage'}}}\n",
            "dict_keys(['0', '1'])\n",
            "{'0': {'shape_attributes': {'name': 'polygon', 'all_points_x': [211, 208, 224, 231, 228, 225, 211], 'all_points_y': [433, 445, 451, 450, 431, 425, 433]}, 'region_attributes': {'name': 'damage'}}}\n",
            "dict_keys(['0'])\n",
            "{'0': {'shape_attributes': {'name': 'polygon', 'all_points_x': [469, 469, 469, 488, 491, 495, 494, 494, 480, 469], 'all_points_y': [622, 622, 621, 618, 618, 624, 638, 638, 637, 622]}, 'region_attributes': {'name': 'damage'}}, '1': {'shape_attributes': {'name': 'polygon', 'all_points_x': [544, 545, 553, 568, 568, 544], 'all_points_y': [591, 597, 605, 612, 589, 591]}, 'region_attributes': {'name': 'damage'}}}\n",
            "dict_keys(['0', '1'])\n",
            "{'0': {'shape_attributes': {'name': 'polygon', 'all_points_x': [213, 209, 225, 247, 253, 264, 265, 260, 234, 227, 232, 236, 236, 226, 218, 213], 'all_points_y': [308, 364, 420, 465, 474, 474, 441, 423, 376, 326, 300, 289, 287, 285, 300, 308]}, 'region_attributes': {'name': 'damage'}}}\n",
            "dict_keys(['0'])\n",
            "{'0': {'shape_attributes': {'name': 'polygon', 'all_points_x': [356, 349, 362, 366, 374, 356], 'all_points_y': [414, 436, 442, 442, 412, 414]}, 'region_attributes': {'name': 'damage'}}}\n",
            "dict_keys(['0'])\n",
            "{'0': {'shape_attributes': {'name': 'polygon', 'all_points_x': [469, 469, 469, 488, 491, 495, 494, 494, 480, 469], 'all_points_y': [622, 622, 621, 618, 618, 624, 638, 638, 637, 622]}, 'region_attributes': {'name': 'damage'}}, '1': {'shape_attributes': {'name': 'polygon', 'all_points_x': [544, 545, 553, 568, 568, 544], 'all_points_y': [591, 597, 605, 612, 589, 591]}, 'region_attributes': {'name': 'damage'}}}\n",
            "dict_keys(['0', '1'])\n",
            "{'0': {'shape_attributes': {'name': 'polygon', 'all_points_x': [469, 469, 469, 488, 491, 495, 494, 494, 480, 469], 'all_points_y': [622, 622, 621, 618, 618, 624, 638, 638, 637, 622]}, 'region_attributes': {'name': 'damage'}}, '1': {'shape_attributes': {'name': 'polygon', 'all_points_x': [544, 545, 553, 568, 568, 544], 'all_points_y': [591, 597, 605, 612, 589, 591]}, 'region_attributes': {'name': 'damage'}}}\n",
            "dict_keys(['0', '1'])\n",
            "{'0': {'shape_attributes': {'name': 'polygon', 'all_points_x': [356, 349, 362, 366, 374, 356], 'all_points_y': [414, 436, 442, 442, 412, 414]}, 'region_attributes': {'name': 'damage'}}}\n",
            "dict_keys(['0'])\n",
            "{'0': {'shape_attributes': {'name': 'polygon', 'all_points_x': [168, 164, 171, 174, 186, 194, 216, 219, 219, 216, 207, 191, 185, 189, 210, 193, 168], 'all_points_y': [315, 362, 420, 447, 466, 472, 472, 470, 457, 445, 423, 390, 362, 330, 312, 312, 315]}, 'region_attributes': {'name': 'damage'}}}\n",
            "dict_keys(['0'])\n",
            "{'0': {'shape_attributes': {'name': 'polygon', 'all_points_x': [356, 349, 362, 366, 374, 356], 'all_points_y': [414, 436, 442, 442, 412, 414]}, 'region_attributes': {'name': 'damage'}}}\n",
            "dict_keys(['0'])\n",
            "{'0': {'shape_attributes': {'name': 'polygon', 'all_points_x': [211, 208, 224, 231, 228, 225, 211], 'all_points_y': [433, 445, 451, 450, 431, 425, 433]}, 'region_attributes': {'name': 'damage'}}}\n",
            "dict_keys(['0'])\n",
            "{'0': {'shape_attributes': {'name': 'polygon', 'all_points_x': [458, 476, 488, 489, 489, 475, 470, 464, 458], 'all_points_y': [603, 592, 600, 616, 624, 627, 627, 627, 603]}, 'region_attributes': {'name': 'damage'}}}\n",
            "dict_keys(['0'])\n",
            "{'0': {'shape_attributes': {'name': 'polygon', 'all_points_x': [168, 164, 171, 174, 186, 194, 216, 219, 219, 216, 207, 191, 185, 189, 210, 193, 168], 'all_points_y': [315, 362, 420, 447, 466, 472, 472, 470, 457, 445, 423, 390, 362, 330, 312, 312, 315]}, 'region_attributes': {'name': 'damage'}}}\n",
            "dict_keys(['0'])\n",
            "{'0': {'shape_attributes': {'name': 'polygon', 'all_points_x': [990, 990, 996, 1001, 1001, 1001, 990], 'all_points_y': [187, 205, 213, 213, 198, 189, 187]}, 'region_attributes': {'name': 'damage'}}}\n",
            "dict_keys(['0'])\n",
            "{'0': {'shape_attributes': {'name': 'polygon', 'all_points_x': [254, 250, 260, 266, 267, 262, 254], 'all_points_y': [75, 107, 109, 96, 82, 76, 75]}, 'region_attributes': {'name': 'damage'}}}\n",
            "dict_keys(['0'])\n",
            "{'0': {'shape_attributes': {'name': 'polygon', 'all_points_x': [306, 292, 292, 303, 324, 329, 337, 332, 309, 298, 308, 313, 306, 301, 301, 306], 'all_points_y': [343, 393, 424, 482, 540, 561, 557, 493, 448, 404, 412, 343, 349, 352, 352, 343]}, 'region_attributes': {'name': 'damage'}}}\n",
            "dict_keys(['0'])\n",
            "{'0': {'shape_attributes': {'name': 'polygon', 'all_points_x': [211, 208, 224, 231, 228, 225, 211], 'all_points_y': [433, 445, 451, 450, 431, 425, 433]}, 'region_attributes': {'name': 'damage'}}}\n",
            "dict_keys(['0'])\n",
            "{'0': {'shape_attributes': {'name': 'polygon', 'all_points_x': [95, 97, 107, 116, 146, 145, 126, 115, 114, 138, 110, 95], 'all_points_y': [289, 376, 416, 429, 433, 408, 377, 341, 307, 284, 286, 289]}, 'region_attributes': {'name': 'damage'}}}\n",
            "dict_keys(['0'])\n",
            "{'0': {'shape_attributes': {'name': 'polygon', 'all_points_x': [113, 118, 127, 166, 168, 147, 134, 113], 'all_points_y': [101, 120, 125, 125, 119, 108, 99, 101]}, 'region_attributes': {'name': 'damage'}}}\n",
            "dict_keys(['0'])\n",
            "{'0': {'shape_attributes': {'name': 'polygon', 'all_points_x': [95, 97, 107, 116, 146, 145, 126, 115, 114, 138, 110, 95], 'all_points_y': [289, 376, 416, 429, 433, 408, 377, 341, 307, 284, 286, 289]}, 'region_attributes': {'name': 'damage'}}}\n",
            "dict_keys(['0'])\n",
            "{'0': {'shape_attributes': {'name': 'polygon', 'all_points_x': [113, 118, 127, 166, 168, 147, 134, 113], 'all_points_y': [101, 120, 125, 125, 119, 108, 99, 101]}, 'region_attributes': {'name': 'damage'}}}\n",
            "dict_keys(['0'])\n",
            "{'0': {'shape_attributes': {'name': 'polygon', 'all_points_x': [626, 626, 672, 674, 626], 'all_points_y': [631, 652, 666, 646, 631]}, 'region_attributes': {'name': 'damage'}}}\n",
            "dict_keys(['0'])\n",
            "{'0': {'shape_attributes': {'name': 'polygon', 'all_points_x': [267, 265, 276, 355, 355, 337, 299, 267], 'all_points_y': [377, 405, 418, 419, 407, 394, 385, 377]}, 'region_attributes': {'name': 'damage'}}}\n",
            "dict_keys(['0'])\n",
            "{'0': {'shape_attributes': {'name': 'polygon', 'all_points_x': [306, 292, 292, 303, 324, 329, 337, 332, 309, 298, 308, 313, 306, 301, 301, 306], 'all_points_y': [343, 393, 424, 482, 540, 561, 557, 493, 448, 404, 412, 343, 349, 352, 352, 343]}, 'region_attributes': {'name': 'damage'}}}\n",
            "dict_keys(['0'])\n",
            "{'0': {'shape_attributes': {'name': 'polygon', 'all_points_x': [469, 469, 469, 488, 491, 495, 494, 494, 480, 469], 'all_points_y': [622, 622, 621, 618, 618, 624, 638, 638, 637, 622]}, 'region_attributes': {'name': 'damage'}}, '1': {'shape_attributes': {'name': 'polygon', 'all_points_x': [544, 545, 553, 568, 568, 544], 'all_points_y': [591, 597, 605, 612, 589, 591]}, 'region_attributes': {'name': 'damage'}}}\n",
            "dict_keys(['0', '1'])\n",
            "{'0': {'shape_attributes': {'name': 'polygon', 'all_points_x': [469, 469, 469, 488, 491, 495, 494, 494, 480, 469], 'all_points_y': [622, 622, 621, 618, 618, 624, 638, 638, 637, 622]}, 'region_attributes': {'name': 'damage'}}, '1': {'shape_attributes': {'name': 'polygon', 'all_points_x': [544, 545, 553, 568, 568, 544], 'all_points_y': [591, 597, 605, 612, 589, 591]}, 'region_attributes': {'name': 'damage'}}}\n",
            "dict_keys(['0', '1'])\n",
            "{'0': {'shape_attributes': {'name': 'polygon', 'all_points_x': [168, 164, 171, 174, 186, 194, 216, 219, 219, 216, 207, 191, 185, 189, 210, 193, 168], 'all_points_y': [315, 362, 420, 447, 466, 472, 472, 470, 457, 445, 423, 390, 362, 330, 312, 312, 315]}, 'region_attributes': {'name': 'damage'}}}\n",
            "dict_keys(['0'])\n",
            "{'0': {'shape_attributes': {'name': 'polygon', 'all_points_x': [211, 208, 224, 231, 228, 225, 211], 'all_points_y': [433, 445, 451, 450, 431, 425, 433]}, 'region_attributes': {'name': 'damage'}}}\n",
            "dict_keys(['0'])\n",
            "{'0': {'shape_attributes': {'name': 'polygon', 'all_points_x': [936, 937, 942, 950, 950, 936], 'all_points_y': [80, 97, 106, 101, 81, 80]}, 'region_attributes': {'name': 'damage'}}}\n",
            "dict_keys(['0'])\n",
            "{'0': {'shape_attributes': {'name': 'polygon', 'all_points_x': [626, 626, 672, 674, 626], 'all_points_y': [631, 652, 666, 646, 631]}, 'region_attributes': {'name': 'damage'}}}\n",
            "dict_keys(['0'])\n",
            "{'0': {'shape_attributes': {'name': 'polygon', 'all_points_x': [458, 476, 488, 489, 489, 475, 470, 464, 458], 'all_points_y': [603, 592, 600, 616, 624, 627, 627, 627, 603]}, 'region_attributes': {'name': 'damage'}}}\n",
            "dict_keys(['0'])\n",
            "{'0': {'shape_attributes': {'name': 'polygon', 'all_points_x': [555, 554, 566, 567, 555], 'all_points_y': [354, 372, 379, 359, 354]}, 'region_attributes': {'name': 'damage'}}}\n",
            "dict_keys(['0'])\n",
            "{'0': {'shape_attributes': {'name': 'polygon', 'all_points_x': [254, 250, 260, 266, 267, 262, 254], 'all_points_y': [75, 107, 109, 96, 82, 76, 75]}, 'region_attributes': {'name': 'damage'}}}\n",
            "dict_keys(['0'])\n",
            "{'0': {'shape_attributes': {'name': 'polygon', 'all_points_x': [990, 990, 996, 1001, 1001, 1001, 990], 'all_points_y': [187, 205, 213, 213, 198, 189, 187]}, 'region_attributes': {'name': 'damage'}}}\n",
            "dict_keys(['0'])\n",
            "{'0': {'shape_attributes': {'name': 'polygon', 'all_points_x': [990, 990, 996, 1001, 1001, 1001, 990], 'all_points_y': [187, 205, 213, 213, 198, 189, 187]}, 'region_attributes': {'name': 'damage'}}}\n",
            "dict_keys(['0'])\n",
            "{'0': {'shape_attributes': {'name': 'polygon', 'all_points_x': [626, 626, 672, 674, 626], 'all_points_y': [631, 652, 666, 646, 631]}, 'region_attributes': {'name': 'damage'}}}\n",
            "dict_keys(['0'])\n",
            "{'0': {'shape_attributes': {'name': 'polygon', 'all_points_x': [458, 476, 488, 489, 489, 475, 470, 464, 458], 'all_points_y': [603, 592, 600, 616, 624, 627, 627, 627, 603]}, 'region_attributes': {'name': 'damage'}}}\n",
            "dict_keys(['0'])\n",
            "{'0': {'shape_attributes': {'name': 'polygon', 'all_points_x': [555, 554, 566, 567, 555], 'all_points_y': [354, 372, 379, 359, 354]}, 'region_attributes': {'name': 'damage'}}}\n",
            "dict_keys(['0'])\n",
            "{'0': {'shape_attributes': {'name': 'polygon', 'all_points_x': [555, 554, 566, 567, 555], 'all_points_y': [354, 372, 379, 359, 354]}, 'region_attributes': {'name': 'damage'}}}\n",
            "dict_keys(['0'])\n",
            "{'0': {'shape_attributes': {'name': 'polygon', 'all_points_x': [458, 476, 488, 489, 489, 475, 470, 464, 458], 'all_points_y': [603, 592, 600, 616, 624, 627, 627, 627, 603]}, 'region_attributes': {'name': 'damage'}}}\n",
            "dict_keys(['0'])\n",
            "{'0': {'shape_attributes': {'name': 'polygon', 'all_points_x': [469, 469, 469, 488, 491, 495, 494, 494, 480, 469], 'all_points_y': [622, 622, 621, 618, 618, 624, 638, 638, 637, 622]}, 'region_attributes': {'name': 'damage'}}, '1': {'shape_attributes': {'name': 'polygon', 'all_points_x': [544, 545, 553, 568, 568, 544], 'all_points_y': [591, 597, 605, 612, 589, 591]}, 'region_attributes': {'name': 'damage'}}}\n",
            "dict_keys(['0', '1'])\n",
            "{'0': {'shape_attributes': {'name': 'polygon', 'all_points_x': [469, 469, 469, 488, 491, 495, 494, 494, 480, 469], 'all_points_y': [622, 622, 621, 618, 618, 624, 638, 638, 637, 622]}, 'region_attributes': {'name': 'damage'}}, '1': {'shape_attributes': {'name': 'polygon', 'all_points_x': [544, 545, 553, 568, 568, 544], 'all_points_y': [591, 597, 605, 612, 589, 591]}, 'region_attributes': {'name': 'damage'}}}\n",
            "dict_keys(['0', '1'])\n",
            "{'0': {'shape_attributes': {'name': 'polygon', 'all_points_x': [469, 469, 469, 488, 491, 495, 494, 494, 480, 469], 'all_points_y': [622, 622, 621, 618, 618, 624, 638, 638, 637, 622]}, 'region_attributes': {'name': 'damage'}}, '1': {'shape_attributes': {'name': 'polygon', 'all_points_x': [544, 545, 553, 568, 568, 544], 'all_points_y': [591, 597, 605, 612, 589, 591]}, 'region_attributes': {'name': 'damage'}}}\n",
            "dict_keys(['0', '1'])\n",
            "{'0': {'shape_attributes': {'name': 'polygon', 'all_points_x': [936, 937, 942, 950, 950, 936], 'all_points_y': [80, 97, 106, 101, 81, 80]}, 'region_attributes': {'name': 'damage'}}}\n",
            "dict_keys(['0'])\n",
            "{'0': {'shape_attributes': {'name': 'polygon', 'all_points_x': [936, 937, 942, 950, 950, 936], 'all_points_y': [80, 97, 106, 101, 81, 80]}, 'region_attributes': {'name': 'damage'}}}\n",
            "dict_keys(['0'])\n",
            "{'0': {'shape_attributes': {'name': 'polygon', 'all_points_x': [469, 469, 469, 488, 491, 495, 494, 494, 480, 469], 'all_points_y': [622, 622, 621, 618, 618, 624, 638, 638, 637, 622]}, 'region_attributes': {'name': 'damage'}}, '1': {'shape_attributes': {'name': 'polygon', 'all_points_x': [544, 545, 553, 568, 568, 544], 'all_points_y': [591, 597, 605, 612, 589, 591]}, 'region_attributes': {'name': 'damage'}}}\n",
            "dict_keys(['0', '1'])\n",
            "{'0': {'shape_attributes': {'name': 'polygon', 'all_points_x': [356, 349, 362, 366, 374, 356], 'all_points_y': [414, 436, 442, 442, 412, 414]}, 'region_attributes': {'name': 'damage'}}}\n",
            "dict_keys(['0'])\n",
            "{'0': {'shape_attributes': {'name': 'polygon', 'all_points_x': [469, 469, 469, 488, 491, 495, 494, 494, 480, 469], 'all_points_y': [622, 622, 621, 618, 618, 624, 638, 638, 637, 622]}, 'region_attributes': {'name': 'damage'}}, '1': {'shape_attributes': {'name': 'polygon', 'all_points_x': [544, 545, 553, 568, 568, 544], 'all_points_y': [591, 597, 605, 612, 589, 591]}, 'region_attributes': {'name': 'damage'}}}\n",
            "dict_keys(['0', '1'])\n",
            "{'0': {'shape_attributes': {'name': 'polygon', 'all_points_x': [267, 265, 276, 355, 355, 337, 299, 267], 'all_points_y': [377, 405, 418, 419, 407, 394, 385, 377]}, 'region_attributes': {'name': 'damage'}}}\n",
            "dict_keys(['0'])\n",
            "{'0': {'shape_attributes': {'name': 'polygon', 'all_points_x': [213, 209, 225, 247, 253, 264, 265, 260, 234, 227, 232, 236, 236, 226, 218, 213], 'all_points_y': [308, 364, 420, 465, 474, 474, 441, 423, 376, 326, 300, 289, 287, 285, 300, 308]}, 'region_attributes': {'name': 'damage'}}}\n",
            "dict_keys(['0'])\n",
            "{'0': {'shape_attributes': {'name': 'polygon', 'all_points_x': [168, 164, 171, 174, 186, 194, 216, 219, 219, 216, 207, 191, 185, 189, 210, 193, 168], 'all_points_y': [315, 362, 420, 447, 466, 472, 472, 470, 457, 445, 423, 390, 362, 330, 312, 312, 315]}, 'region_attributes': {'name': 'damage'}}}\n",
            "dict_keys(['0'])\n",
            "{'0': {'shape_attributes': {'name': 'polygon', 'all_points_x': [356, 349, 362, 366, 374, 356], 'all_points_y': [414, 436, 442, 442, 412, 414]}, 'region_attributes': {'name': 'damage'}}}\n",
            "dict_keys(['0'])\n",
            "{'0': {'shape_attributes': {'name': 'polygon', 'all_points_x': [95, 97, 107, 116, 146, 145, 126, 115, 114, 138, 110, 95], 'all_points_y': [289, 376, 416, 429, 433, 408, 377, 341, 307, 284, 286, 289]}, 'region_attributes': {'name': 'damage'}}}\n",
            "dict_keys(['0'])\n",
            "{'0': {'shape_attributes': {'name': 'polygon', 'all_points_x': [168, 164, 171, 174, 186, 194, 216, 219, 219, 216, 207, 191, 185, 189, 210, 193, 168], 'all_points_y': [315, 362, 420, 447, 466, 472, 472, 470, 457, 445, 423, 390, 362, 330, 312, 312, 315]}, 'region_attributes': {'name': 'damage'}}}\n",
            "dict_keys(['0'])\n",
            "{'0': {'shape_attributes': {'name': 'polygon', 'all_points_x': [936, 937, 942, 950, 950, 936], 'all_points_y': [80, 97, 106, 101, 81, 80]}, 'region_attributes': {'name': 'damage'}}}\n",
            "dict_keys(['0'])\n",
            "{'0': {'shape_attributes': {'name': 'polygon', 'all_points_x': [211, 208, 224, 231, 228, 225, 211], 'all_points_y': [433, 445, 451, 450, 431, 425, 433]}, 'region_attributes': {'name': 'damage'}}}\n",
            "dict_keys(['0'])\n",
            "{'0': {'shape_attributes': {'name': 'polygon', 'all_points_x': [990, 990, 996, 1001, 1001, 1001, 990], 'all_points_y': [187, 205, 213, 213, 198, 189, 187]}, 'region_attributes': {'name': 'damage'}}}\n",
            "dict_keys(['0'])\n",
            "{'0': {'shape_attributes': {'name': 'polygon', 'all_points_x': [168, 164, 171, 174, 186, 194, 216, 219, 219, 216, 207, 191, 185, 189, 210, 193, 168], 'all_points_y': [315, 362, 420, 447, 466, 472, 472, 470, 457, 445, 423, 390, 362, 330, 312, 312, 315]}, 'region_attributes': {'name': 'damage'}}}\n",
            "dict_keys(['0'])\n",
            "{'0': {'shape_attributes': {'name': 'polygon', 'all_points_x': [213, 209, 225, 247, 253, 264, 265, 260, 234, 227, 232, 236, 236, 226, 218, 213], 'all_points_y': [308, 364, 420, 465, 474, 474, 441, 423, 376, 326, 300, 289, 287, 285, 300, 308]}, 'region_attributes': {'name': 'damage'}}}\n",
            "dict_keys(['0'])\n",
            "{'0': {'shape_attributes': {'name': 'polygon', 'all_points_x': [95, 97, 107, 116, 146, 145, 126, 115, 114, 138, 110, 95], 'all_points_y': [289, 376, 416, 429, 433, 408, 377, 341, 307, 284, 286, 289]}, 'region_attributes': {'name': 'damage'}}}\n",
            "dict_keys(['0'])\n",
            "{'0': {'shape_attributes': {'name': 'polygon', 'all_points_x': [95, 97, 107, 116, 146, 145, 126, 115, 114, 138, 110, 95], 'all_points_y': [289, 376, 416, 429, 433, 408, 377, 341, 307, 284, 286, 289]}, 'region_attributes': {'name': 'damage'}}}\n",
            "dict_keys(['0'])\n",
            "{'0': {'shape_attributes': {'name': 'polygon', 'all_points_x': [990, 990, 996, 1001, 1001, 1001, 990], 'all_points_y': [187, 205, 213, 213, 198, 189, 187]}, 'region_attributes': {'name': 'damage'}}}\n",
            "dict_keys(['0'])\n",
            "{'0': {'shape_attributes': {'name': 'polygon', 'all_points_x': [936, 937, 942, 950, 950, 936], 'all_points_y': [80, 97, 106, 101, 81, 80]}, 'region_attributes': {'name': 'damage'}}}\n",
            "dict_keys(['0'])\n",
            "{'0': {'shape_attributes': {'name': 'polygon', 'all_points_x': [213, 209, 225, 247, 253, 264, 265, 260, 234, 227, 232, 236, 236, 226, 218, 213], 'all_points_y': [308, 364, 420, 465, 474, 474, 441, 423, 376, 326, 300, 289, 287, 285, 300, 308]}, 'region_attributes': {'name': 'damage'}}}\n",
            "dict_keys(['0'])\n",
            "{'0': {'shape_attributes': {'name': 'polygon', 'all_points_x': [267, 265, 276, 355, 355, 337, 299, 267], 'all_points_y': [377, 405, 418, 419, 407, 394, 385, 377]}, 'region_attributes': {'name': 'damage'}}}\n",
            "dict_keys(['0'])\n",
            "{'0': {'shape_attributes': {'name': 'polygon', 'all_points_x': [95, 97, 107, 116, 146, 145, 126, 115, 114, 138, 110, 95], 'all_points_y': [289, 376, 416, 429, 433, 408, 377, 341, 307, 284, 286, 289]}, 'region_attributes': {'name': 'damage'}}}\n",
            "dict_keys(['0'])\n",
            "{'0': {'shape_attributes': {'name': 'polygon', 'all_points_x': [254, 250, 260, 266, 267, 262, 254], 'all_points_y': [75, 107, 109, 96, 82, 76, 75]}, 'region_attributes': {'name': 'damage'}}}\n",
            "dict_keys(['0'])\n",
            "{'0': {'shape_attributes': {'name': 'polygon', 'all_points_x': [113, 118, 127, 166, 168, 147, 134, 113], 'all_points_y': [101, 120, 125, 125, 119, 108, 99, 101]}, 'region_attributes': {'name': 'damage'}}}\n",
            "dict_keys(['0'])\n",
            "{'0': {'shape_attributes': {'name': 'polygon', 'all_points_x': [211, 208, 224, 231, 228, 225, 211], 'all_points_y': [433, 445, 451, 450, 431, 425, 433]}, 'region_attributes': {'name': 'damage'}}}\n",
            "dict_keys(['0'])\n",
            "{'0': {'shape_attributes': {'name': 'polygon', 'all_points_x': [990, 990, 996, 1001, 1001, 1001, 990], 'all_points_y': [187, 205, 213, 213, 198, 189, 187]}, 'region_attributes': {'name': 'damage'}}}\n",
            "dict_keys(['0'])\n",
            "{'0': {'shape_attributes': {'name': 'polygon', 'all_points_x': [237, 242, 258, 258, 237], 'all_points_y': [455, 469, 470, 452, 455]}, 'region_attributes': {'name': 'damage'}}, '1': {'shape_attributes': {'name': 'polygon', 'all_points_x': [300, 308, 317, 316, 300], 'all_points_y': [437, 446, 446, 429, 437]}, 'region_attributes': {'name': 'damage'}}}\n",
            "dict_keys(['0', '1'])\n",
            "{'0': {'shape_attributes': {'name': 'polygon', 'all_points_x': [936, 937, 942, 950, 950, 936], 'all_points_y': [80, 97, 106, 101, 81, 80]}, 'region_attributes': {'name': 'damage'}}}\n",
            "dict_keys(['0'])\n",
            "{'0': {'shape_attributes': {'name': 'polygon', 'all_points_x': [211, 208, 224, 231, 228, 225, 211], 'all_points_y': [433, 445, 451, 450, 431, 425, 433]}, 'region_attributes': {'name': 'damage'}}}\n",
            "dict_keys(['0'])\n",
            "{'0': {'shape_attributes': {'name': 'polygon', 'all_points_x': [936, 937, 942, 950, 950, 936], 'all_points_y': [80, 97, 106, 101, 81, 80]}, 'region_attributes': {'name': 'damage'}}}\n",
            "dict_keys(['0'])\n",
            "{'0': {'shape_attributes': {'name': 'polygon', 'all_points_x': [267, 265, 276, 355, 355, 337, 299, 267], 'all_points_y': [377, 405, 418, 419, 407, 394, 385, 377]}, 'region_attributes': {'name': 'damage'}}}\n",
            "dict_keys(['0'])\n",
            "{'0': {'shape_attributes': {'name': 'polygon', 'all_points_x': [237, 242, 258, 258, 237], 'all_points_y': [455, 469, 470, 452, 455]}, 'region_attributes': {'name': 'damage'}}, '1': {'shape_attributes': {'name': 'polygon', 'all_points_x': [300, 308, 317, 316, 300], 'all_points_y': [437, 446, 446, 429, 437]}, 'region_attributes': {'name': 'damage'}}}\n",
            "dict_keys(['0', '1'])\n",
            "{'0': {'shape_attributes': {'name': 'polygon', 'all_points_x': [213, 209, 225, 247, 253, 264, 265, 260, 234, 227, 232, 236, 236, 226, 218, 213], 'all_points_y': [308, 364, 420, 465, 474, 474, 441, 423, 376, 326, 300, 289, 287, 285, 300, 308]}, 'region_attributes': {'name': 'damage'}}}\n",
            "dict_keys(['0'])\n",
            "{'0': {'shape_attributes': {'name': 'polygon', 'all_points_x': [990, 990, 996, 1001, 1001, 1001, 990], 'all_points_y': [187, 205, 213, 213, 198, 189, 187]}, 'region_attributes': {'name': 'damage'}}}\n",
            "dict_keys(['0'])\n",
            "{'0': {'shape_attributes': {'name': 'polygon', 'all_points_x': [213, 209, 225, 247, 253, 264, 265, 260, 234, 227, 232, 236, 236, 226, 218, 213], 'all_points_y': [308, 364, 420, 465, 474, 474, 441, 423, 376, 326, 300, 289, 287, 285, 300, 308]}, 'region_attributes': {'name': 'damage'}}}\n",
            "dict_keys(['0'])\n",
            "{'0': {'shape_attributes': {'name': 'polygon', 'all_points_x': [168, 164, 171, 174, 186, 194, 216, 219, 219, 216, 207, 191, 185, 189, 210, 193, 168], 'all_points_y': [315, 362, 420, 447, 466, 472, 472, 470, 457, 445, 423, 390, 362, 330, 312, 312, 315]}, 'region_attributes': {'name': 'damage'}}}\n",
            "dict_keys(['0'])\n",
            "{'0': {'shape_attributes': {'name': 'polygon', 'all_points_x': [168, 164, 171, 174, 186, 194, 216, 219, 219, 216, 207, 191, 185, 189, 210, 193, 168], 'all_points_y': [315, 362, 420, 447, 466, 472, 472, 470, 457, 445, 423, 390, 362, 330, 312, 312, 315]}, 'region_attributes': {'name': 'damage'}}}\n",
            "dict_keys(['0'])\n",
            "{'0': {'shape_attributes': {'name': 'polygon', 'all_points_x': [95, 97, 107, 116, 146, 145, 126, 115, 114, 138, 110, 95], 'all_points_y': [289, 376, 416, 429, 433, 408, 377, 341, 307, 284, 286, 289]}, 'region_attributes': {'name': 'damage'}}}\n",
            "dict_keys(['0'])\n",
            "{'0': {'shape_attributes': {'name': 'polygon', 'all_points_x': [990, 990, 996, 1001, 1001, 1001, 990], 'all_points_y': [187, 205, 213, 213, 198, 189, 187]}, 'region_attributes': {'name': 'damage'}}}\n",
            "dict_keys(['0'])\n",
            "{'0': {'shape_attributes': {'name': 'polygon', 'all_points_x': [356, 349, 362, 366, 374, 356], 'all_points_y': [414, 436, 442, 442, 412, 414]}, 'region_attributes': {'name': 'damage'}}}\n",
            "dict_keys(['0'])\n",
            "{'0': {'shape_attributes': {'name': 'polygon', 'all_points_x': [555, 554, 566, 567, 555], 'all_points_y': [354, 372, 379, 359, 354]}, 'region_attributes': {'name': 'damage'}}}\n",
            "dict_keys(['0'])\n",
            "{'0': {'shape_attributes': {'name': 'polygon', 'all_points_x': [555, 554, 566, 567, 555], 'all_points_y': [354, 372, 379, 359, 354]}, 'region_attributes': {'name': 'damage'}}}\n",
            "dict_keys(['0'])\n",
            "{'0': {'shape_attributes': {'name': 'polygon', 'all_points_x': [213, 209, 225, 247, 253, 264, 265, 260, 234, 227, 232, 236, 236, 226, 218, 213], 'all_points_y': [308, 364, 420, 465, 474, 474, 441, 423, 376, 326, 300, 289, 287, 285, 300, 308]}, 'region_attributes': {'name': 'damage'}}}\n",
            "dict_keys(['0'])\n",
            "{'0': {'shape_attributes': {'name': 'polygon', 'all_points_x': [458, 476, 488, 489, 489, 475, 470, 464, 458], 'all_points_y': [603, 592, 600, 616, 624, 627, 627, 627, 603]}, 'region_attributes': {'name': 'damage'}}}\n",
            "dict_keys(['0'])\n",
            "{'0': {'shape_attributes': {'name': 'polygon', 'all_points_x': [990, 990, 996, 1001, 1001, 1001, 990], 'all_points_y': [187, 205, 213, 213, 198, 189, 187]}, 'region_attributes': {'name': 'damage'}}}\n",
            "dict_keys(['0'])\n",
            "{'0': {'shape_attributes': {'name': 'polygon', 'all_points_x': [469, 469, 469, 488, 491, 495, 494, 494, 480, 469], 'all_points_y': [622, 622, 621, 618, 618, 624, 638, 638, 637, 622]}, 'region_attributes': {'name': 'damage'}}, '1': {'shape_attributes': {'name': 'polygon', 'all_points_x': [544, 545, 553, 568, 568, 544], 'all_points_y': [591, 597, 605, 612, 589, 591]}, 'region_attributes': {'name': 'damage'}}}\n",
            "dict_keys(['0', '1'])\n",
            "{'0': {'shape_attributes': {'name': 'polygon', 'all_points_x': [213, 209, 225, 247, 253, 264, 265, 260, 234, 227, 232, 236, 236, 226, 218, 213], 'all_points_y': [308, 364, 420, 465, 474, 474, 441, 423, 376, 326, 300, 289, 287, 285, 300, 308]}, 'region_attributes': {'name': 'damage'}}}\n",
            "dict_keys(['0'])\n",
            "{'0': {'shape_attributes': {'name': 'polygon', 'all_points_x': [95, 97, 107, 116, 146, 145, 126, 115, 114, 138, 110, 95], 'all_points_y': [289, 376, 416, 429, 433, 408, 377, 341, 307, 284, 286, 289]}, 'region_attributes': {'name': 'damage'}}}\n",
            "dict_keys(['0'])\n",
            "{'0': {'shape_attributes': {'name': 'polygon', 'all_points_x': [936, 937, 942, 950, 950, 936], 'all_points_y': [80, 97, 106, 101, 81, 80]}, 'region_attributes': {'name': 'damage'}}}\n",
            "dict_keys(['0'])\n",
            "{'0': {'shape_attributes': {'name': 'polygon', 'all_points_x': [306, 292, 292, 303, 324, 329, 337, 332, 309, 298, 308, 313, 306, 301, 301, 306], 'all_points_y': [343, 393, 424, 482, 540, 561, 557, 493, 448, 404, 412, 343, 349, 352, 352, 343]}, 'region_attributes': {'name': 'damage'}}}\n",
            "dict_keys(['0'])\n",
            "{'0': {'shape_attributes': {'name': 'polygon', 'all_points_x': [626, 626, 672, 674, 626], 'all_points_y': [631, 652, 666, 646, 631]}, 'region_attributes': {'name': 'damage'}}}\n",
            "dict_keys(['0'])\n",
            "{'0': {'shape_attributes': {'name': 'polygon', 'all_points_x': [469, 469, 469, 488, 491, 495, 494, 494, 480, 469], 'all_points_y': [622, 622, 621, 618, 618, 624, 638, 638, 637, 622]}, 'region_attributes': {'name': 'damage'}}, '1': {'shape_attributes': {'name': 'polygon', 'all_points_x': [544, 545, 553, 568, 568, 544], 'all_points_y': [591, 597, 605, 612, 589, 591]}, 'region_attributes': {'name': 'damage'}}}\n",
            "dict_keys(['0', '1'])\n",
            "{'0': {'shape_attributes': {'name': 'polygon', 'all_points_x': [469, 469, 469, 488, 491, 495, 494, 494, 480, 469], 'all_points_y': [622, 622, 621, 618, 618, 624, 638, 638, 637, 622]}, 'region_attributes': {'name': 'damage'}}, '1': {'shape_attributes': {'name': 'polygon', 'all_points_x': [544, 545, 553, 568, 568, 544], 'all_points_y': [591, 597, 605, 612, 589, 591]}, 'region_attributes': {'name': 'damage'}}}\n",
            "dict_keys(['0', '1'])\n",
            "{'0': {'shape_attributes': {'name': 'polygon', 'all_points_x': [237, 242, 258, 258, 237], 'all_points_y': [455, 469, 470, 452, 455]}, 'region_attributes': {'name': 'damage'}}, '1': {'shape_attributes': {'name': 'polygon', 'all_points_x': [300, 308, 317, 316, 300], 'all_points_y': [437, 446, 446, 429, 437]}, 'region_attributes': {'name': 'damage'}}}\n",
            "dict_keys(['0', '1'])\n",
            "{'0': {'shape_attributes': {'name': 'polygon', 'all_points_x': [990, 990, 996, 1001, 1001, 1001, 990], 'all_points_y': [187, 205, 213, 213, 198, 189, 187]}, 'region_attributes': {'name': 'damage'}}}\n",
            "dict_keys(['0'])\n",
            "{'0': {'shape_attributes': {'name': 'polygon', 'all_points_x': [458, 476, 488, 489, 489, 475, 470, 464, 458], 'all_points_y': [603, 592, 600, 616, 624, 627, 627, 627, 603]}, 'region_attributes': {'name': 'damage'}}}\n",
            "dict_keys(['0'])\n",
            "{'0': {'shape_attributes': {'name': 'polygon', 'all_points_x': [95, 97, 107, 116, 146, 145, 126, 115, 114, 138, 110, 95], 'all_points_y': [289, 376, 416, 429, 433, 408, 377, 341, 307, 284, 286, 289]}, 'region_attributes': {'name': 'damage'}}}\n",
            "dict_keys(['0'])\n",
            "{'0': {'shape_attributes': {'name': 'polygon', 'all_points_x': [555, 554, 566, 567, 555], 'all_points_y': [354, 372, 379, 359, 354]}, 'region_attributes': {'name': 'damage'}}}\n",
            "dict_keys(['0'])\n",
            "{'0': {'shape_attributes': {'name': 'polygon', 'all_points_x': [555, 554, 566, 567, 555], 'all_points_y': [354, 372, 379, 359, 354]}, 'region_attributes': {'name': 'damage'}}}\n",
            "dict_keys(['0'])\n",
            "{'0': {'shape_attributes': {'name': 'polygon', 'all_points_x': [237, 242, 258, 258, 237], 'all_points_y': [455, 469, 470, 452, 455]}, 'region_attributes': {'name': 'damage'}}, '1': {'shape_attributes': {'name': 'polygon', 'all_points_x': [300, 308, 317, 316, 300], 'all_points_y': [437, 446, 446, 429, 437]}, 'region_attributes': {'name': 'damage'}}}\n",
            "dict_keys(['0', '1'])\n",
            "{'0': {'shape_attributes': {'name': 'polygon', 'all_points_x': [237, 242, 258, 258, 237], 'all_points_y': [455, 469, 470, 452, 455]}, 'region_attributes': {'name': 'damage'}}, '1': {'shape_attributes': {'name': 'polygon', 'all_points_x': [300, 308, 317, 316, 300], 'all_points_y': [437, 446, 446, 429, 437]}, 'region_attributes': {'name': 'damage'}}}\n",
            "dict_keys(['0', '1'])\n",
            "{'0': {'shape_attributes': {'name': 'polygon', 'all_points_x': [555, 554, 566, 567, 555], 'all_points_y': [354, 372, 379, 359, 354]}, 'region_attributes': {'name': 'damage'}}}\n",
            "dict_keys(['0'])\n",
            "{'0': {'shape_attributes': {'name': 'polygon', 'all_points_x': [306, 292, 292, 303, 324, 329, 337, 332, 309, 298, 308, 313, 306, 301, 301, 306], 'all_points_y': [343, 393, 424, 482, 540, 561, 557, 493, 448, 404, 412, 343, 349, 352, 352, 343]}, 'region_attributes': {'name': 'damage'}}}\n",
            "dict_keys(['0'])\n",
            "{'0': {'shape_attributes': {'name': 'polygon', 'all_points_x': [990, 990, 996, 1001, 1001, 1001, 990], 'all_points_y': [187, 205, 213, 213, 198, 189, 187]}, 'region_attributes': {'name': 'damage'}}}\n",
            "dict_keys(['0'])\n",
            "{'0': {'shape_attributes': {'name': 'polygon', 'all_points_x': [458, 476, 488, 489, 489, 475, 470, 464, 458], 'all_points_y': [603, 592, 600, 616, 624, 627, 627, 627, 603]}, 'region_attributes': {'name': 'damage'}}}\n",
            "dict_keys(['0'])\n",
            "{'0': {'shape_attributes': {'name': 'polygon', 'all_points_x': [211, 208, 224, 231, 228, 225, 211], 'all_points_y': [433, 445, 451, 450, 431, 425, 433]}, 'region_attributes': {'name': 'damage'}}}\n",
            "dict_keys(['0'])\n",
            "{'0': {'shape_attributes': {'name': 'polygon', 'all_points_x': [168, 164, 171, 174, 186, 194, 216, 219, 219, 216, 207, 191, 185, 189, 210, 193, 168], 'all_points_y': [315, 362, 420, 447, 466, 472, 472, 470, 457, 445, 423, 390, 362, 330, 312, 312, 315]}, 'region_attributes': {'name': 'damage'}}}\n",
            "dict_keys(['0'])\n",
            "{'0': {'shape_attributes': {'name': 'polygon', 'all_points_x': [113, 118, 127, 166, 168, 147, 134, 113], 'all_points_y': [101, 120, 125, 125, 119, 108, 99, 101]}, 'region_attributes': {'name': 'damage'}}}\n",
            "dict_keys(['0'])\n",
            "{'0': {'shape_attributes': {'name': 'polygon', 'all_points_x': [254, 250, 260, 266, 267, 262, 254], 'all_points_y': [75, 107, 109, 96, 82, 76, 75]}, 'region_attributes': {'name': 'damage'}}}\n",
            "dict_keys(['0'])\n",
            "{'0': {'shape_attributes': {'name': 'polygon', 'all_points_x': [626, 626, 672, 674, 626], 'all_points_y': [631, 652, 666, 646, 631]}, 'region_attributes': {'name': 'damage'}}}\n",
            "dict_keys(['0'])\n",
            "{'0': {'shape_attributes': {'name': 'polygon', 'all_points_x': [555, 554, 566, 567, 555], 'all_points_y': [354, 372, 379, 359, 354]}, 'region_attributes': {'name': 'damage'}}}\n",
            "dict_keys(['0'])\n",
            "{'0': {'shape_attributes': {'name': 'polygon', 'all_points_x': [936, 937, 942, 950, 950, 936], 'all_points_y': [80, 97, 106, 101, 81, 80]}, 'region_attributes': {'name': 'damage'}}}\n",
            "dict_keys(['0'])\n",
            "{'0': {'shape_attributes': {'name': 'polygon', 'all_points_x': [113, 118, 127, 166, 168, 147, 134, 113], 'all_points_y': [101, 120, 125, 125, 119, 108, 99, 101]}, 'region_attributes': {'name': 'damage'}}}\n",
            "dict_keys(['0'])\n",
            "{'0': {'shape_attributes': {'name': 'polygon', 'all_points_x': [469, 469, 469, 488, 491, 495, 494, 494, 480, 469], 'all_points_y': [622, 622, 621, 618, 618, 624, 638, 638, 637, 622]}, 'region_attributes': {'name': 'damage'}}, '1': {'shape_attributes': {'name': 'polygon', 'all_points_x': [544, 545, 553, 568, 568, 544], 'all_points_y': [591, 597, 605, 612, 589, 591]}, 'region_attributes': {'name': 'damage'}}}\n",
            "dict_keys(['0', '1'])\n",
            "{'0': {'shape_attributes': {'name': 'polygon', 'all_points_x': [555, 554, 566, 567, 555], 'all_points_y': [354, 372, 379, 359, 354]}, 'region_attributes': {'name': 'damage'}}}\n",
            "dict_keys(['0'])\n",
            "{'0': {'shape_attributes': {'name': 'polygon', 'all_points_x': [254, 250, 260, 266, 267, 262, 254], 'all_points_y': [75, 107, 109, 96, 82, 76, 75]}, 'region_attributes': {'name': 'damage'}}}\n",
            "dict_keys(['0'])\n",
            "{'0': {'shape_attributes': {'name': 'polygon', 'all_points_x': [95, 97, 107, 116, 146, 145, 126, 115, 114, 138, 110, 95], 'all_points_y': [289, 376, 416, 429, 433, 408, 377, 341, 307, 284, 286, 289]}, 'region_attributes': {'name': 'damage'}}}\n",
            "dict_keys(['0'])\n",
            "{'0': {'shape_attributes': {'name': 'polygon', 'all_points_x': [168, 164, 171, 174, 186, 194, 216, 219, 219, 216, 207, 191, 185, 189, 210, 193, 168], 'all_points_y': [315, 362, 420, 447, 466, 472, 472, 470, 457, 445, 423, 390, 362, 330, 312, 312, 315]}, 'region_attributes': {'name': 'damage'}}}\n",
            "dict_keys(['0'])\n",
            "{'0': {'shape_attributes': {'name': 'polygon', 'all_points_x': [626, 626, 672, 674, 626], 'all_points_y': [631, 652, 666, 646, 631]}, 'region_attributes': {'name': 'damage'}}}\n",
            "dict_keys(['0'])\n",
            "{'0': {'shape_attributes': {'name': 'polygon', 'all_points_x': [936, 937, 942, 950, 950, 936], 'all_points_y': [80, 97, 106, 101, 81, 80]}, 'region_attributes': {'name': 'damage'}}}\n",
            "dict_keys(['0'])\n",
            "{'0': {'shape_attributes': {'name': 'polygon', 'all_points_x': [555, 554, 566, 567, 555], 'all_points_y': [354, 372, 379, 359, 354]}, 'region_attributes': {'name': 'damage'}}}\n",
            "dict_keys(['0'])\n",
            "{'0': {'shape_attributes': {'name': 'polygon', 'all_points_x': [95, 97, 107, 116, 146, 145, 126, 115, 114, 138, 110, 95], 'all_points_y': [289, 376, 416, 429, 433, 408, 377, 341, 307, 284, 286, 289]}, 'region_attributes': {'name': 'damage'}}}\n",
            "dict_keys(['0'])\n",
            "{'0': {'shape_attributes': {'name': 'polygon', 'all_points_x': [237, 242, 258, 258, 237], 'all_points_y': [455, 469, 470, 452, 455]}, 'region_attributes': {'name': 'damage'}}, '1': {'shape_attributes': {'name': 'polygon', 'all_points_x': [300, 308, 317, 316, 300], 'all_points_y': [437, 446, 446, 429, 437]}, 'region_attributes': {'name': 'damage'}}}\n",
            "dict_keys(['0', '1'])\n",
            "{'0': {'shape_attributes': {'name': 'polygon', 'all_points_x': [213, 209, 225, 247, 253, 264, 265, 260, 234, 227, 232, 236, 236, 226, 218, 213], 'all_points_y': [308, 364, 420, 465, 474, 474, 441, 423, 376, 326, 300, 289, 287, 285, 300, 308]}, 'region_attributes': {'name': 'damage'}}}\n",
            "dict_keys(['0'])\n",
            "{'0': {'shape_attributes': {'name': 'polygon', 'all_points_x': [555, 554, 566, 567, 555], 'all_points_y': [354, 372, 379, 359, 354]}, 'region_attributes': {'name': 'damage'}}}\n",
            "dict_keys(['0'])\n",
            "{'0': {'shape_attributes': {'name': 'polygon', 'all_points_x': [237, 242, 258, 258, 237], 'all_points_y': [455, 469, 470, 452, 455]}, 'region_attributes': {'name': 'damage'}}, '1': {'shape_attributes': {'name': 'polygon', 'all_points_x': [300, 308, 317, 316, 300], 'all_points_y': [437, 446, 446, 429, 437]}, 'region_attributes': {'name': 'damage'}}}\n",
            "dict_keys(['0', '1'])\n",
            "{'0': {'shape_attributes': {'name': 'polygon', 'all_points_x': [254, 250, 260, 266, 267, 262, 254], 'all_points_y': [75, 107, 109, 96, 82, 76, 75]}, 'region_attributes': {'name': 'damage'}}}\n",
            "dict_keys(['0'])\n",
            "{'0': {'shape_attributes': {'name': 'polygon', 'all_points_x': [626, 626, 672, 674, 626], 'all_points_y': [631, 652, 666, 646, 631]}, 'region_attributes': {'name': 'damage'}}}\n",
            "dict_keys(['0'])\n",
            "{'0': {'shape_attributes': {'name': 'polygon', 'all_points_x': [458, 476, 488, 489, 489, 475, 470, 464, 458], 'all_points_y': [603, 592, 600, 616, 624, 627, 627, 627, 603]}, 'region_attributes': {'name': 'damage'}}}\n",
            "dict_keys(['0'])\n",
            "{'0': {'shape_attributes': {'name': 'polygon', 'all_points_x': [458, 476, 488, 489, 489, 475, 470, 464, 458], 'all_points_y': [603, 592, 600, 616, 624, 627, 627, 627, 603]}, 'region_attributes': {'name': 'damage'}}}\n",
            "dict_keys(['0'])\n",
            "{'0': {'shape_attributes': {'name': 'polygon', 'all_points_x': [213, 209, 225, 247, 253, 264, 265, 260, 234, 227, 232, 236, 236, 226, 218, 213], 'all_points_y': [308, 364, 420, 465, 474, 474, 441, 423, 376, 326, 300, 289, 287, 285, 300, 308]}, 'region_attributes': {'name': 'damage'}}}\n",
            "dict_keys(['0'])\n",
            "{'0': {'shape_attributes': {'name': 'polygon', 'all_points_x': [254, 250, 260, 266, 267, 262, 254], 'all_points_y': [75, 107, 109, 96, 82, 76, 75]}, 'region_attributes': {'name': 'damage'}}}\n",
            "dict_keys(['0'])\n",
            "{'0': {'shape_attributes': {'name': 'polygon', 'all_points_x': [211, 208, 224, 231, 228, 225, 211], 'all_points_y': [433, 445, 451, 450, 431, 425, 433]}, 'region_attributes': {'name': 'damage'}}}\n",
            "dict_keys(['0'])\n",
            "{'0': {'shape_attributes': {'name': 'polygon', 'all_points_x': [113, 118, 127, 166, 168, 147, 134, 113], 'all_points_y': [101, 120, 125, 125, 119, 108, 99, 101]}, 'region_attributes': {'name': 'damage'}}}\n",
            "dict_keys(['0'])\n",
            "{'0': {'shape_attributes': {'name': 'polygon', 'all_points_x': [990, 990, 996, 1001, 1001, 1001, 990], 'all_points_y': [187, 205, 213, 213, 198, 189, 187]}, 'region_attributes': {'name': 'damage'}}}\n",
            "dict_keys(['0'])\n",
            "{'0': {'shape_attributes': {'name': 'polygon', 'all_points_x': [458, 476, 488, 489, 489, 475, 470, 464, 458], 'all_points_y': [603, 592, 600, 616, 624, 627, 627, 627, 603]}, 'region_attributes': {'name': 'damage'}}}\n",
            "dict_keys(['0'])\n",
            "{'0': {'shape_attributes': {'name': 'polygon', 'all_points_x': [306, 292, 292, 303, 324, 329, 337, 332, 309, 298, 308, 313, 306, 301, 301, 306], 'all_points_y': [343, 393, 424, 482, 540, 561, 557, 493, 448, 404, 412, 343, 349, 352, 352, 343]}, 'region_attributes': {'name': 'damage'}}}\n",
            "dict_keys(['0'])\n",
            "{'0': {'shape_attributes': {'name': 'polygon', 'all_points_x': [356, 349, 362, 366, 374, 356], 'all_points_y': [414, 436, 442, 442, 412, 414]}, 'region_attributes': {'name': 'damage'}}}\n",
            "dict_keys(['0'])\n",
            "{'0': {'shape_attributes': {'name': 'polygon', 'all_points_x': [990, 990, 996, 1001, 1001, 1001, 990], 'all_points_y': [187, 205, 213, 213, 198, 189, 187]}, 'region_attributes': {'name': 'damage'}}}\n",
            "dict_keys(['0'])\n",
            "{'0': {'shape_attributes': {'name': 'polygon', 'all_points_x': [213, 209, 225, 247, 253, 264, 265, 260, 234, 227, 232, 236, 236, 226, 218, 213], 'all_points_y': [308, 364, 420, 465, 474, 474, 441, 423, 376, 326, 300, 289, 287, 285, 300, 308]}, 'region_attributes': {'name': 'damage'}}}\n",
            "dict_keys(['0'])\n"
          ],
          "name": "stdout"
        }
      ]
    },
    {
      "cell_type": "code",
      "metadata": {
        "id": "vEEYtijvQsom",
        "colab_type": "code",
        "colab": {}
      },
      "source": [
        "def generate_samples(train_files, outputdir):\n",
        "  "
      ],
      "execution_count": 0,
      "outputs": []
    },
    {
      "cell_type": "code",
      "metadata": {
        "id": "vysoTkO-Akm6",
        "colab_type": "code",
        "colab": {}
      },
      "source": [
        "import random\n",
        "def save_random_crops(train_files, outputdir):\n",
        "    filepath = random.choice(train_files)\n",
        "    img = cv2.imread(filepath)\n",
        "    x, y = random.choice(range(img.shape[1])), random.choice(range(img.shape[0]))\n",
        "    crop_img = img[y:y+64, x:x+64]\n",
        "    name = os.path.join(outputdir, \"random_%d.jpg\" % random.choice(range(1000000)))\n",
        "    cv2.imwrite(name, crop_img)\n",
        "\n",
        "outputdir = '/content/drive/My Drive/datasets/ubisoft/cropped/negative'\n",
        "if not os.path.exists(outputdir):\n",
        "  os.makedirs(outputdir)\n",
        "  \n",
        "for i in range(40):\n",
        "  save_random_crops(train_files, outputdir)\n",
        "  "
      ],
      "execution_count": 0,
      "outputs": []
    },
    {
      "cell_type": "code",
      "metadata": {
        "id": "RPxd_I4ADOCb",
        "colab_type": "code",
        "outputId": "3485601a-6c9d-4c5a-99b3-7dee37d35473",
        "colab": {
          "base_uri": "https://localhost:8080/",
          "height": 68
        }
      },
      "source": [
        "import numpy as np\n",
        "import pandas as pd\n",
        "\n",
        "posdir = '/content/drive/My Drive/datasets/ubisoft/cropped/positive'\n",
        "negdir = '/content/drive/My Drive/datasets/ubisoft/cropped/negative'\n",
        "\n",
        "dataset = []\n",
        "pospaths = [os.path.join(posdir, x) for x in os.listdir(posdir)]\n",
        "for pospath in pospaths:\n",
        "  img = cv2.imread(pospath)\n",
        "  img = cv2.resize(img, (32, 32))\n",
        "  img = img.reshape(32*32*3)\n",
        "  dataset.append(img)\n",
        "df_pos = pd.DataFrame(dataset)\n",
        "df_pos['label'] = 1\n",
        "\n",
        "dataset = []\n",
        "negpaths = [os.path.join(negdir, x) for x in os.listdir(negdir)]\n",
        "for megpath in negpaths:\n",
        "  img = cv2.imread(megpath)\n",
        "  img = cv2.resize(img, (32, 32))\n",
        "  img = img.reshape(32*32*3)\n",
        "  dataset.append(img)\n",
        "df_neg = pd.DataFrame(dataset)\n",
        "df_neg['label'] = 0\n",
        "\n",
        "df = pd.concat([df_pos, df_neg], axis=0)\n",
        "dfLabel = df['label']\n",
        "df.drop(['label'], inplace=True, axis=1)\n",
        "print(dfLabel.value_counts())"
      ],
      "execution_count": 266,
      "outputs": [
        {
          "output_type": "stream",
          "text": [
            "0    188\n",
            "1    179\n",
            "Name: label, dtype: int64\n"
          ],
          "name": "stdout"
        }
      ]
    },
    {
      "cell_type": "code",
      "metadata": {
        "id": "XVgiBx7lDD55",
        "colab_type": "code",
        "colab": {}
      },
      "source": [
        "from sklearn import svm\n",
        "from sklearn import metrics"
      ],
      "execution_count": 0,
      "outputs": []
    },
    {
      "cell_type": "code",
      "metadata": {
        "id": "NGif2q1tGu0j",
        "colab_type": "code",
        "outputId": "bbdb7f82-9cf2-4235-86ef-90579384ff35",
        "colab": {
          "base_uri": "https://localhost:8080/",
          "height": 68
        }
      },
      "source": [
        "clf = svm.LinearSVC()\n",
        "clf.fit(df, dfLabel)\n",
        "result = clf.predict(df)\n",
        "metrics.accuracy_score(dfLabel, result)"
      ],
      "execution_count": 269,
      "outputs": [
        {
          "output_type": "stream",
          "text": [
            "/usr/local/lib/python3.6/dist-packages/sklearn/svm/base.py:929: ConvergenceWarning: Liblinear failed to converge, increase the number of iterations.\n",
            "  \"the number of iterations.\", ConvergenceWarning)\n"
          ],
          "name": "stderr"
        },
        {
          "output_type": "execute_result",
          "data": {
            "text/plain": [
              "0.9918256130790191"
            ]
          },
          "metadata": {
            "tags": []
          },
          "execution_count": 269
        }
      ]
    },
    {
      "cell_type": "code",
      "metadata": {
        "id": "8J1LtkPEOHfG",
        "colab_type": "code",
        "outputId": "a4c65474-8321-4445-d986-99b1f81ad438",
        "colab": {
          "base_uri": "https://localhost:8080/",
          "height": 269
        }
      },
      "source": [
        "# read the image and define the stepSize and window size \n",
        "# (width,height)\n",
        "image = cv2.imread(train_files[12]) # your image path\n",
        "tmp = image # for drawing a rectangle\n",
        "stepSize = 50\n",
        "\n",
        "window_sizes = [64]\n",
        "\n",
        "for window_size in window_sizes:\n",
        "  (w_width, w_height) = (window_size, window_size) # window size\n",
        "  for x in range(0, image.shape[1] - w_width , stepSize):\n",
        "     for y in range(0, image.shape[0] - w_height, stepSize):\n",
        "        try:\n",
        "          window = image[x:x + w_width, y:y + w_height, :]\n",
        "\n",
        "          window = cv2.resize(window, (32, 32))\n",
        "          window_flat = window.reshape(-1, 32*32*3)\n",
        "          if clf.predict(window_flat):\n",
        "#               cv2.rectangle(tmp, (x, y), (x + w_width, y + w_height), (255, 0, 0), 3) # draw rectangle on image\n",
        "              cv2.rectangle(tmp, (y, x), (y + w_height, x + w_width), (255, 0, 0), 3) # draw rectangle on image\n",
        "#               plt.imshow(window)\n",
        "#               plt.show()\n",
        "        except Exception as err:\n",
        "          pass\n",
        "# show all windows\n",
        "plt.imshow(np.array(tmp).astype('uint8'))\n",
        "plt.show()"
      ],
      "execution_count": 284,
      "outputs": [
        {
          "output_type": "display_data",
          "data": {
            "image/png": "[encoded data removed]",
            "text/plain": [
              "<Figure size 432x288 with 1 Axes>"
            ]
          },
          "metadata": {
            "tags": []
          }
        }
      ]
    },
    {
      "cell_type": "code",
      "metadata": {
        "id": "SmdehVErMtb8",
        "colab_type": "code",
        "colab": {}
      },
      "source": [
        ""
      ],
      "execution_count": 0,
      "outputs": []
    }
  ]
}