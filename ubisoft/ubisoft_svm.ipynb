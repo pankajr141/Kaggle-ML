{
  "nbformat": 4,
  "nbformat_minor": 0,
  "metadata": {
    "colab": {
      "name": "ubisoft_svm.ipynb",
      "version": "0.3.2",
      "provenance": [],
      "collapsed_sections": [],
      "include_colab_link": true
    },
    "kernelspec": {
      "name": "python3",
      "display_name": "Python 3"
    }
  },
  "cells": [
    {
      "cell_type": "markdown",
      "metadata": {
        "id": "view-in-github",
        "colab_type": "text"
      },
      "source": [
        "<a href=\"https://colab.research.google.com/github/pankajr141/Kaggle-ML/blob/master/ubisoft/ubisoft_svm.ipynb\" target=\"_parent\"><img src=\"https://colab.research.google.com/assets/colab-badge.svg\" alt=\"Open In Colab\"/></a>"
      ]
    },
    {
      "cell_type": "code",
      "metadata": {
        "id": "IXOXWZvLAEPw",
        "colab_type": "code",
        "outputId": "5a8f0950-5739-4c8b-a94c-9448fd86b063",
        "colab": {
          "base_uri": "https://localhost:8080/",
          "height": 122
        }
      },
      "source": [
        "from google.colab import drive\n",
        "drive.mount(r'/content/drive')"
      ],
      "execution_count": 1,
      "outputs": [
        {
          "output_type": "stream",
          "text": [
            "Go to this URL in a browser: https://accounts.google.com/o/oauth2/auth?client_id=947318989803-6bn6qk8qdgf4n4g3pfee6491hc0brc4i.apps.googleusercontent.com&redirect_uri=urn%3Aietf%3Awg%3Aoauth%3A2.0%3Aoob&scope=email%20https%3A%2F%2Fwww.googleapis.com%2Fauth%2Fdocs.test%20https%3A%2F%2Fwww.googleapis.com%2Fauth%2Fdrive%20https%3A%2F%2Fwww.googleapis.com%2Fauth%2Fdrive.photos.readonly%20https%3A%2F%2Fwww.googleapis.com%2Fauth%2Fpeopleapi.readonly&response_type=code\n",
            "\n",
            "Enter your authorization code:\n",
            "··········\n",
            "Mounted at /content/drive\n"
          ],
          "name": "stdout"
        }
      ]
    },
    {
      "cell_type": "code",
      "metadata": {
        "id": "5VjWMLuYAPms",
        "colab_type": "code",
        "colab": {}
      },
      "source": [
        "import os\n",
        "import sys\n",
        "import cv2\n",
        "import copy\n",
        "import random\n",
        "import matplotlib.pyplot as plt"
      ],
      "execution_count": 0,
      "outputs": []
    },
    {
      "cell_type": "code",
      "metadata": {
        "id": "lyMmxcrNASl9",
        "colab_type": "code",
        "outputId": "5b32d239-d1ae-4834-9599-b441fa4a0b2e",
        "colab": {
          "base_uri": "https://localhost:8080/",
          "height": 289
        }
      },
      "source": [
        "train_dir = '/content/drive/My Drive/datasets/ubisoft/Train'\n",
        "train_files = [os.path.join(train_dir, x) for x in os.listdir(train_dir)]\n",
        "train_files"
      ],
      "execution_count": 2,
      "outputs": [
        {
          "output_type": "execute_result",
          "data": {
            "text/plain": [
              "['/content/drive/My Drive/datasets/ubisoft/Train/Altair 1.png',\n",
              " '/content/drive/My Drive/datasets/ubisoft/Train/Altair 2.png',\n",
              " '/content/drive/My Drive/datasets/ubisoft/Train/Altair 3.png',\n",
              " '/content/drive/My Drive/datasets/ubisoft/Train/Elexis 1.png',\n",
              " '/content/drive/My Drive/datasets/ubisoft/Train/Altair 4.png',\n",
              " '/content/drive/My Drive/datasets/ubisoft/Train/Altair 5.png',\n",
              " '/content/drive/My Drive/datasets/ubisoft/Train/Elexis 2.png',\n",
              " '/content/drive/My Drive/datasets/ubisoft/Train/Elexis 3.png',\n",
              " '/content/drive/My Drive/datasets/ubisoft/Train/Elexis 4.png',\n",
              " '/content/drive/My Drive/datasets/ubisoft/Train/Elexis 5.png',\n",
              " '/content/drive/My Drive/datasets/ubisoft/Train/Elexis 8.png',\n",
              " '/content/drive/My Drive/datasets/ubisoft/Train/Elexis 7.png',\n",
              " '/content/drive/My Drive/datasets/ubisoft/Train/cropped4.JPG',\n",
              " '/content/drive/My Drive/datasets/ubisoft/Train/cropped1.JPG',\n",
              " '/content/drive/My Drive/datasets/ubisoft/Train/cropped2.JPG',\n",
              " '/content/drive/My Drive/datasets/ubisoft/Train/cropped3.JPG']"
            ]
          },
          "metadata": {
            "tags": []
          },
          "execution_count": 2
        }
      ]
    },
    {
      "cell_type": "code",
      "metadata": {
        "id": "9x1_Zs1wQ2hd",
        "colab_type": "code",
        "outputId": "8a2f95fd-9b81-444f-c0ac-8e313df13041",
        "colab": {
          "base_uri": "https://localhost:8080/",
          "height": 34
        }
      },
      "source": [
        "import json\n",
        "from shapely.geometry import Polygon\n",
        "\n",
        "def create_positive_samples():\n",
        "  outputdir = '/content/drive/My Drive/datasets/ubisoft/cropped/positive'\n",
        "  for i in range(150):\n",
        "    train_file = random.choice(train_files)\n",
        "    jsonfile = os.path.join('/content/drive/My Drive/datasets/ubisoft/Annotations/Train.json')\n",
        "    annotations = list(json.load(open(jsonfile)).values()) # don't need the dict keys\n",
        "    annotation = [x for x in annotations if x['filename'] == os.path.basename(train_file)]\n",
        "    print(annotation[0]['regions'])\n",
        "    keys = annotation[0]['regions'].keys()\n",
        "    print(keys)\n",
        "    buf = 64\n",
        "    img = cv2.imread(train_file)\n",
        "    for key in keys:\n",
        "        x = annotation[0]['regions'][key]['shape_attributes']['all_points_x']\n",
        "        y = annotation[0]['regions'][key]['shape_attributes']['all_points_y']\n",
        "\n",
        "        x_min, x_max = np.min(x) - int(buf), np.max(x)\n",
        "        y_min, y_max = np.min(y) , np.max(y) + int(buf)\n",
        "\n",
        "        pts1 = np.array(list(zip(x,y)))\n",
        "\n",
        "\n",
        "        x, y = random.choice(range(x_min, x_max)), random.choice(range(y_min, y_max))\n",
        "        crop_img = img[y-buf:y, x:x+buf]\n",
        "        pts2 = np.array([(x, y), (x, y-buf), (x+buf, y-buf), (x+ buf, y), (x, y)])\n",
        "\n",
        "        p1 = Polygon(pts1)\n",
        "        p2 = Polygon(pts2)\n",
        "        if p1.intersects(p2):\n",
        "            name = os.path.join(outputdir, \"random_%d.jpg\" % random.choice(range(1000000)))\n",
        "            cv2.imwrite(name, crop_img)\n",
        "\n",
        "  #       plt.imshow(crop_img)\n",
        "  #       plt.show()\n",
        "\n",
        "  #       cv2.polylines(img,[pts1], True, (255, 0, 0), 3)\n",
        "  #       cv2.polylines(img,[pts2], True, (255, 0, 0), 3)\n",
        "\n",
        "\n",
        "  #       plt.imshow(img)\n",
        "  #       plt.show()\n",
        "  \n",
        "'''Uncomment to generate positive samples in Google drive '''\n",
        "# create_positive_samples()"
      ],
      "execution_count": 3,
      "outputs": [
        {
          "output_type": "execute_result",
          "data": {
            "text/plain": [
              "'Uncomment to generate positive samples in Google drive '"
            ]
          },
          "metadata": {
            "tags": []
          },
          "execution_count": 3
        }
      ]
    },
    {
      "cell_type": "code",
      "metadata": {
        "id": "vysoTkO-Akm6",
        "colab_type": "code",
        "colab": {}
      },
      "source": [
        "import random\n",
        "def create_negative_samples(train_files, outputdir):\n",
        "    filepath = random.choice(train_files)\n",
        "    img = cv2.imread(filepath)\n",
        "    x, y = random.choice(range(img.shape[1])), random.choice(range(img.shape[0]))\n",
        "    crop_img = img[y:y+64, x:x+64]\n",
        "    name = os.path.join(outputdir, \"random_%d.jpg\" % random.choice(range(1000000)))\n",
        "    cv2.imwrite(name, crop_img)\n",
        "\n",
        "outputdir = '/content/drive/My Drive/datasets/ubisoft/cropped/negative'\n",
        "if not os.path.exists(outputdir):\n",
        "  os.makedirs(outputdir)\n",
        "\n",
        "''' Uncomment to Generate Negative samples in google drive '''\n",
        "# for i in range(40):\n",
        "#   create_negative_samples(train_files, outputdir)\n",
        "  "
      ],
      "execution_count": 0,
      "outputs": []
    },
    {
      "cell_type": "markdown",
      "metadata": {
        "id": "SGgH6672Z2vS",
        "colab_type": "text"
      },
      "source": [
        "### Create Data Frame with positive and negative samples"
      ]
    },
    {
      "cell_type": "code",
      "metadata": {
        "id": "RPxd_I4ADOCb",
        "colab_type": "code",
        "outputId": "e3545899-c472-4ef7-c701-dc0b40e9f7e9",
        "colab": {
          "base_uri": "https://localhost:8080/",
          "height": 68
        }
      },
      "source": [
        "import numpy as np\n",
        "import pandas as pd\n",
        "\n",
        "posdir = '/content/drive/My Drive/datasets/ubisoft/cropped/positive'\n",
        "negdir = '/content/drive/My Drive/datasets/ubisoft/cropped/negative'\n",
        "\n",
        "dataset = []\n",
        "pospaths = [os.path.join(posdir, x) for x in os.listdir(posdir)]\n",
        "for pospath in pospaths:\n",
        "  img = cv2.imread(pospath)\n",
        "  img = cv2.resize(img, (32, 32))\n",
        "  img = img.reshape(32*32*3)\n",
        "  dataset.append(img)\n",
        "df_pos = pd.DataFrame(dataset)\n",
        "df_pos['label'] = 1\n",
        "\n",
        "dataset = []\n",
        "negpaths = [os.path.join(negdir, x) for x in os.listdir(negdir)]\n",
        "for megpath in negpaths:\n",
        "  img = cv2.imread(megpath)\n",
        "  img = cv2.resize(img, (32, 32))\n",
        "  img = img.reshape(32*32*3)\n",
        "  dataset.append(img)\n",
        "df_neg = pd.DataFrame(dataset)\n",
        "df_neg['label'] = 0\n",
        "\n",
        "df = pd.concat([df_pos, df_neg], axis=0)\n",
        "print(df['label'].value_counts())"
      ],
      "execution_count": 20,
      "outputs": [
        {
          "output_type": "stream",
          "text": [
            "0    188\n",
            "1    179\n",
            "Name: label, dtype: int64\n"
          ],
          "name": "stdout"
        }
      ]
    },
    {
      "cell_type": "code",
      "metadata": {
        "id": "KbnWR4C2aIUD",
        "colab_type": "code",
        "colab": {
          "base_uri": "https://localhost:8080/",
          "height": 255
        },
        "outputId": "af03af24-30f1-4b9c-cfda-f6b869154b9d"
      },
      "source": [
        "def getTrainHoldoutSplit(df, dfLabel, holdoutSize=0.20):\n",
        "    from sklearn import model_selection \n",
        "    dfHoldOut = None\n",
        "    dfHoldOutLabel = None\n",
        "\n",
        "    cv_pre = model_selection.StratifiedShuffleSplit(n_splits=1, test_size=holdoutSize, random_state=1)\n",
        "    for train_index, test_index in cv_pre.split(df, dfLabel):\n",
        "        y_train, y_test = dfLabel[train_index], dfLabel[test_index]\n",
        "        x_train, x_test = df.iloc[train_index], df.iloc[test_index]\n",
        "        df, dfLabel = x_train, y_train\n",
        "        dfHoldOut, dfHoldOutLabel = x_test, y_test\n",
        "\n",
        "    print(\"==================== Data Set ==================================\")\n",
        "    print(\"Holdout Set => \", dfHoldOut.shape)\n",
        "    print(\"Train Set => \", df.shape)\n",
        "    print(\"==================== Data Set ==================================\")\n",
        "    return df, dfLabel, dfHoldOut, dfHoldOutLabel\n",
        "  \n",
        "df, _, dfVal, _ = getTrainHoldoutSplit(df, df['label'], holdoutSize=0.15)\n",
        "dfLabel = df['label']\n",
        "dfValLabel = dfVal['label']\n",
        "df.drop(['label'], inplace=True, axis=1)\n",
        "dfVal.drop(['label'], inplace=True, axis=1)\n",
        "\n",
        "print(dfLabel.value_counts())"
      ],
      "execution_count": 21,
      "outputs": [
        {
          "output_type": "stream",
          "text": [
            "/usr/local/lib/python3.6/dist-packages/pandas/core/series.py:942: FutureWarning: \n",
            "Passing list-likes to .loc or [] with any missing label will raise\n",
            "KeyError in the future, you can use .reindex() as an alternative.\n",
            "\n",
            "See the documentation here:\n",
            "https://pandas.pydata.org/pandas-docs/stable/indexing.html#deprecate-loc-reindex-listlike\n",
            "  return self.loc[key]\n"
          ],
          "name": "stderr"
        },
        {
          "output_type": "stream",
          "text": [
            "==================== Data Set ==================================\n",
            "Holdout Set =>  (56, 3073)\n",
            "Train Set =>  (311, 3073)\n",
            "==================== Data Set ==================================\n",
            "0    159\n",
            "1    152\n",
            "Name: label, dtype: int64\n"
          ],
          "name": "stdout"
        }
      ]
    },
    {
      "cell_type": "code",
      "metadata": {
        "id": "XVgiBx7lDD55",
        "colab_type": "code",
        "colab": {}
      },
      "source": [
        "from sklearn import svm\n",
        "from sklearn import metrics"
      ],
      "execution_count": 0,
      "outputs": []
    },
    {
      "cell_type": "code",
      "metadata": {
        "id": "NGif2q1tGu0j",
        "colab_type": "code",
        "outputId": "43dc3012-022b-4bde-900d-889248b0f9e8",
        "colab": {
          "base_uri": "https://localhost:8080/",
          "height": 51
        }
      },
      "source": [
        "from sklearn.ensemble import RandomForestClassifier\n",
        "clf = RandomForestClassifier(n_estimators=300, max_depth=3, random_state=0)\n",
        "# clf = svm.LinearSVC(C=10)\n",
        "clf.fit(df, dfLabel)\n",
        "\n",
        "print(\"Train ACC:\", metrics.accuracy_score(dfLabel, clf.predict(df)))\n",
        "print(\"Val Acc:\", metrics.accuracy_score(dfValLabel, clf.predict(dfVal)))"
      ],
      "execution_count": 34,
      "outputs": [
        {
          "output_type": "stream",
          "text": [
            "Train ACC: 0.9292604501607717\n",
            "Val Acc: 0.7678571428571429\n"
          ],
          "name": "stdout"
        }
      ]
    },
    {
      "cell_type": "code",
      "metadata": {
        "id": "8J1LtkPEOHfG",
        "colab_type": "code",
        "outputId": "f535a661-d356-4b86-8ccf-07c261dd8e9c",
        "colab": {
          "base_uri": "https://localhost:8080/",
          "height": 269
        }
      },
      "source": [
        "# read the image and define the stepSize and window size \n",
        "# (width,height)\n",
        "image = cv2.imread(train_files[12]) # your image path\n",
        "tmp = image # for drawing a rectangle\n",
        "stepSize = 50\n",
        "\n",
        "window_sizes = [64]\n",
        "\n",
        "for window_size in window_sizes:\n",
        "  (w_width, w_height) = (window_size, window_size) # window size\n",
        "  for x in range(0, image.shape[1] - w_width , stepSize):\n",
        "     for y in range(0, image.shape[0] - w_height, stepSize):\n",
        "        try:\n",
        "          window = image[x:x + w_width, y:y + w_height, :]\n",
        "          window = cv2.resize(window, (32, 32))\n",
        "          window_flat = window.reshape(-1, 32*32*3)\n",
        "          if clf.predict_proba(window_flat)[0][1] > 0.8:\n",
        "#               cv2.rectangle(tmp, (x, y), (x + w_width, y + w_height), (255, 0, 0), 3) # draw rectangle on image\n",
        "              cv2.rectangle(tmp, (y, x), (y + w_height, x + w_width), (255, 0, 0), 3) # draw rectangle on image\n",
        "#               plt.imshow(window)\n",
        "#               plt.show()\n",
        "        except Exception as err:\n",
        "          pass\n",
        "# show all windows\n",
        "plt.imshow(np.array(tmp).astype('uint8'))\n",
        "plt.show()"
      ],
      "execution_count": 39,
      "outputs": [
        {
          "output_type": "display_data",
          "data": {
            "image/png": "[encoded data removed]",
            "text/plain": [
              "<Figure size 432x288 with 1 Axes>"
            ]
          },
          "metadata": {
            "tags": []
          }
        }
      ]
    },
    {
      "cell_type": "code",
      "metadata": {
        "id": "SmdehVErMtb8",
        "colab_type": "code",
        "colab": {}
      },
      "source": [
        ""
      ],
      "execution_count": 0,
      "outputs": []
    }
  ]
}